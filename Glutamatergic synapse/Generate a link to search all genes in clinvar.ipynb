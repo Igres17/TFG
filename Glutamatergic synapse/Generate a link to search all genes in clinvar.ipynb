{
 "cells": [
  {
   "cell_type": "code",
   "execution_count": null,
   "id": "3368767f",
   "metadata": {},
   "outputs": [],
   "source": [
    "# This program is created in order to treat all the genes in the GN. txt file \n",
    "# to create a link to query them into ClinVar.\n",
    "# Clinvar search bar only allows a certain number of query while the link allows no-maximum\n",
    "# This trick is used to search all the genes into the webpage\n",
    "# Then manually are downloeaded all the necessary files."
   ]
  },
  {
   "cell_type": "code",
   "execution_count": 2,
   "id": "257c9790",
   "metadata": {},
   "outputs": [
    {
     "name": "stdout",
     "output_type": "stream",
     "text": [
      "['CTTNBP2', 'HRAS', 'NRCAM', 'GHSR', 'ARF4', 'DNM1', 'NPTX1', 'GRIPAP1', 'CACNG2', 'SCN10A', 'PRKCI', 'PPP3CC', 'PTPRD', 'CBLN1', 'PRRT2', 'KCND2', 'TAMALIN', 'RNF10', 'CDH11', 'CDH8', 'DRD4', 'NLGN1', 'SLITRK4', 'LRRC4', 'SYT1', 'CNR1', 'SHANK1', 'HTR2A', 'PHB2', 'PRKCZ', 'BCR', 'CHRM1', 'CNKSR2', 'SLC30A3', 'SH3GL3', 'GSG1L', 'ARHGAP22', 'BIN1', 'PURA', 'CDK5', 'GABRG2', 'PLPPR4', 'C1QBP', 'CPT1C', 'LRRK2', 'NLGN4X', 'SH3GL2', 'SV2A', 'PRKAR2B', 'PRKAR1B', 'EFNB3', 'CDKL5', 'ELAVL1', 'NAPA', 'AP2M1', 'EFNB2', 'AKAP9', 'CPLX2', 'SH3GL1', 'TNIK', 'SLC6A17', 'PORCN', 'GRIA1', 'CANX', 'CAMK4', 'MAPK14', 'CACNG3', 'ARHGAP39', 'SHANK2', 'NUMB', 'IL1RAP', 'CLSTN2', 'ADORA2B', 'ADORA2A', 'SRGN', 'FLOT1', 'RGS9', 'PAK3', 'KPNA2', 'IL1RAPL2', 'CADPS', 'PPM1H', 'CDH1', 'ACTN1', 'PPP3CA', 'CLSTN3', 'ARHGAP44', 'BAIAP2', 'LRRC4B', 'WASF3', 'GABRR1', 'LRFN5', 'SORCS3', 'LYN', 'PFN1', 'GSK3B', 'EPHB2', 'NPTXR', 'ATP2B3', 'GRID1', 'ARPC5L', 'EPHA4', 'EPHB1', 'DLG1', 'NRP2', 'HOMER2', 'ABHD17C', 'DBN1', 'STX1A', 'SYT4', 'SPTBN1', 'PTPRO', 'CBLN2', 'RTN4R', 'RHOA', 'ERBB4', 'CLSTN1', 'PPP1CC', 'ABLIM3', 'CLCN3', 'PPP2R2A', 'YWHAZ', 'HOMER1', 'GRIN3A', 'P2RY4', 'P2RX1', 'LRRC4C', 'ELAVL4', 'STXBP1', 'WNT5A', 'FZD9', 'NOSTRIN', 'PPP3CB', 'DLG3', 'DRD1', 'TNR', 'SYN2', 'EIF4E', 'AP2B1', 'RAC1', 'CORO1A', 'OPHN1', 'NETO1', 'CRTC1', 'HIP1', 'VCP', 'LRRTM3', 'NRG3', 'ADGRL3', 'PRR7', 'CADPS2', 'SLC1A2', 'HSPA8', 'WNT7A', 'GRIN2A', 'PCDH17', 'GIPC1', 'STX4', 'PSD2', 'SHISA9', 'ARC', 'ITGB3', 'ADCY8', 'DRD3', 'MAL2', 'ATP2B2', 'GUCY1B1', 'DLGAP1', 'RAB11A', 'SCN2A', 'PFN2', 'GUCY1A1', 'GPM6A', 'ATP2B4', 'FLOT2', 'ACTBL2', 'GRIP2', 'DAG1', 'PPP2R1A', 'SNAP25', 'SCRIB', 'CPLX1', 'SHISA7', 'APBA1', 'NRP1', 'ADRA1A', 'RNF19A', 'NLGN3', 'KCNA1', 'ABR', 'DNM2', 'EPS8', 'BSN', 'SLITRK1', 'ADRA2A', 'ADAM10', 'RPL22', 'FLRT3', 'DRP2', 'LRFN4', 'ERBIN', 'SHISA6', 'RAB8A', 'PAK2', 'LRFN3', 'ARPC2', 'VPS35', 'SRC', 'AP3D1', 'DVL1', 'WNT3A', 'CALY', 'DLGAP2', 'CTBP1', 'VPS18', 'GRIN2D', 'STX3', 'SEMA3F', 'GRM1', 'CNIH2', 'ABHD6', 'GRIK3', 'GRIK2', 'APOE', 'ACTB', 'SYNGAP1', 'CTNND1', 'ERC2', 'PIN1', 'DLG4', 'ADGRA1', 'ADCY1', 'FXR1', 'ACTC1', 'P2RX6', 'DRD2', 'PLEKHA5', 'NRG1', 'CTBP2', 'DLGAP3', 'CDH10', 'NTNG2', 'GABBR1', 'CAMKV', 'CACNG4', 'HPCA', 'SPARCL1', 'FBXL20', 'ARF6', 'RELA', 'PCDH8', 'ABHD17A', 'NTNG1', 'NRGN', 'SLC4A8', 'SPTBN2', 'EIF4A3', 'GRID2', 'NPTX2', 'NPTN', 'P2RY1', 'RAP1A', 'STAU1', 'NLGN4Y', 'DGKQ', 'DYNLL2', 'LGI1', 'GPC4', 'PRKAR1A', 'DGKE', 'PLG', 'PLAT', 'NSG1', 'GRIK5', 'ADAM23', 'NOS1AP', 'CAPRIN1', 'ITGB1', 'GRIN2C', 'LRRTM2', 'CACNG5', 'KCNA3', 'DTNBP1', 'CALB1', 'RGS14', 'FBXO45', 'NTRK3', 'PCLO', 'CACNG7', 'DLGAP4', 'BCAN', 'IL1RAPL1', 'SLITRK2', 'FXYD6', 'NAPB', 'PPFIA3', 'FARP1', 'GRM3', 'CAMK1', 'SYN3', 'DNM3', 'KPNA1', 'USP8', 'GHRL', 'FZD4', 'DNAJB1', 'TSPOAP1', 'EPHA7', 'GRM5', 'JAK2', 'RGS7BP', 'ATP2B1', 'PLCB1', 'CSPG5', 'PPP1CA', 'PACSIN2', 'PTK2B']\n"
     ]
    },
    {
     "data": {
      "text/plain": [
       "317"
      ]
     },
     "execution_count": 2,
     "metadata": {},
     "output_type": "execute_result"
    }
   ],
   "source": [
    "f = open('GN.txt', 'r')\n",
    "lines = f.readlines()\n",
    "f.close()\n",
    "list_genes = []\n",
    "for genes in lines:\n",
    "    list_genes.append(genes.strip('\\n'))\n",
    "print(list_genes)\n",
    "len(list_genes)"
   ]
  },
  {
   "cell_type": "code",
   "execution_count": 13,
   "id": "92079133",
   "metadata": {},
   "outputs": [
    {
     "name": "stdout",
     "output_type": "stream",
     "text": [
      "CTTNBP2[gene]%20OR%20HRAS[gene]%20OR%20NRCAM[gene]%20OR%20GHSR[gene]%20OR%20ARF4[gene]%20OR%20DNM1[gene]%20OR%20NPTX1[gene]%20OR%20GRIPAP1[gene]%20OR%20CACNG2[gene]%20OR%20SCN10A[gene]%20OR%20PRKCI[gene]%20OR%20PPP3CC[gene]%20OR%20PTPRD[gene]%20OR%20CBLN1[gene]%20OR%20PRRT2[gene]%20OR%20KCND2[gene]%20OR%20TAMALIN[gene]%20OR%20RNF10[gene]%20OR%20CDH11[gene]%20OR%20CDH8[gene]%20OR%20DRD4[gene]%20OR%20NLGN1[gene]%20OR%20SLITRK4[gene]%20OR%20LRRC4[gene]%20OR%20SYT1[gene]%20OR%20CNR1[gene]%20OR%20SHANK1[gene]%20OR%20HTR2A[gene]%20OR%20PHB2[gene]%20OR%20PRKCZ[gene]%20OR%20BCR[gene]%20OR%20CHRM1[gene]%20OR%20CNKSR2[gene]%20OR%20SLC30A3[gene]%20OR%20SH3GL3[gene]%20OR%20GSG1L[gene]%20OR%20ARHGAP22[gene]%20OR%20BIN1[gene]%20OR%20PURA[gene]%20OR%20CDK5[gene]%20OR%20GABRG2[gene]%20OR%20PLPPR4[gene]%20OR%20C1QBP[gene]%20OR%20CPT1C[gene]%20OR%20LRRK2[gene]%20OR%20NLGN4X[gene]%20OR%20SH3GL2[gene]%20OR%20SV2A[gene]%20OR%20PRKAR2B[gene]%20OR%20PRKAR1B[gene]%20OR%20EFNB3[gene]%20OR%20CDKL5[gene]%20OR%20ELAVL1[gene]%20OR%20NAPA[gene]%20OR%20AP2M1[gene]%20OR%20EFNB2[gene]%20OR%20AKAP9[gene]%20OR%20CPLX2[gene]%20OR%20SH3GL1[gene]%20OR%20TNIK[gene]%20OR%20SLC6A17[gene]%20OR%20PORCN[gene]%20OR%20GRIA1[gene]%20OR%20CANX[gene]%20OR%20CAMK4[gene]%20OR%20MAPK14[gene]%20OR%20CACNG3[gene]%20OR%20ARHGAP39[gene]%20OR%20SHANK2[gene]%20OR%20NUMB[gene]%20OR%20IL1RAP[gene]%20OR%20CLSTN2[gene]%20OR%20ADORA2B[gene]%20OR%20ADORA2A[gene]%20OR%20SRGN[gene]%20OR%20FLOT1[gene]%20OR%20RGS9[gene]%20OR%20PAK3[gene]%20OR%20KPNA2[gene]%20OR%20IL1RAPL2[gene]%20OR%20CADPS[gene]%20OR%20PPM1H[gene]%20OR%20CDH1[gene]%20OR%20ACTN1[gene]%20OR%20PPP3CA[gene]%20OR%20CLSTN3[gene]%20OR%20ARHGAP44[gene]%20OR%20BAIAP2[gene]%20OR%20LRRC4B[gene]%20OR%20WASF3[gene]%20OR%20GABRR1[gene]%20OR%20LRFN5[gene]%20OR%20SORCS3[gene]%20OR%20LYN[gene]%20OR%20PFN1[gene]%20OR%20GSK3B[gene]%20OR%20EPHB2[gene]%20OR%20NPTXR[gene]%20OR%20ATP2B3[gene]%20OR%20GRID1[gene]%20OR%20ARPC5L[gene]%20OR%20EPHA4[gene]%20OR%20EPHB1[gene]%20OR%20DLG1[gene]%20OR%20NRP2[gene]%20OR%20HOMER2[gene]%20OR%20ABHD17C[gene]%20OR%20DBN1[gene]%20OR%20STX1A[gene]%20OR%20SYT4[gene]%20OR%20SPTBN1[gene]%20OR%20PTPRO[gene]%20OR%20CBLN2[gene]%20OR%20RTN4R[gene]%20OR%20RHOA[gene]%20OR%20ERBB4[gene]%20OR%20CLSTN1[gene]%20OR%20PPP1CC[gene]%20OR%20ABLIM3[gene]%20OR%20CLCN3[gene]%20OR%20PPP2R2A[gene]%20OR%20YWHAZ[gene]%20OR%20HOMER1[gene]%20OR%20GRIN3A[gene]%20OR%20P2RY4[gene]%20OR%20P2RX1[gene]%20OR%20LRRC4C[gene]%20OR%20ELAVL4[gene]%20OR%20STXBP1[gene]%20OR%20WNT5A[gene]%20OR%20FZD9[gene]%20OR%20NOSTRIN[gene]%20OR%20PPP3CB[gene]%20OR%20DLG3[gene]%20OR%20DRD1[gene]%20OR%20TNR[gene]%20OR%20SYN2[gene]%20OR%20EIF4E[gene]%20OR%20AP2B1[gene]%20OR%20RAC1[gene]%20OR%20CORO1A[gene]%20OR%20OPHN1[gene]%20OR%20NETO1[gene]%20OR%20CRTC1[gene]%20OR%20HIP1[gene]%20OR%20VCP[gene]%20OR%20LRRTM3[gene]%20OR%20NRG3[gene]%20OR%20ADGRL3[gene]%20OR%20PRR7[gene]%20OR%20CADPS2[gene]%20OR%20SLC1A2[gene]%20OR%20HSPA8[gene]%20OR%20WNT7A[gene]%20OR%20GRIN2A[gene]%20OR%20PCDH17[gene]%20OR%20GIPC1[gene]%20OR%20STX4[gene]%20OR%20PSD2[gene]%20OR%20SHISA9[gene]%20OR%20ARC[gene]%20OR%20ITGB3[gene]%20OR%20ADCY8[gene]%20OR%20DRD3[gene]%20OR%20MAL2[gene]%20OR%20ATP2B2[gene]%20OR%20GUCY1B1[gene]%20OR%20DLGAP1[gene]%20OR%20RAB11A[gene]%20OR%20SCN2A[gene]%20OR%20PFN2[gene]%20OR%20GUCY1A1[gene]%20OR%20GPM6A[gene]%20OR%20ATP2B4[gene]%20OR%20FLOT2[gene]%20OR%20ACTBL2[gene]%20OR%20GRIP2[gene]%20OR%20DAG1[gene]%20OR%20PPP2R1A[gene]%20OR%20SNAP25[gene]%20OR%20SCRIB[gene]%20OR%20CPLX1[gene]%20OR%20SHISA7[gene]%20OR%20APBA1[gene]%20OR%20NRP1[gene]%20OR%20ADRA1A[gene]%20OR%20RNF19A[gene]%20OR%20NLGN3[gene]%20OR%20KCNA1[gene]%20OR%20ABR[gene]%20OR%20DNM2[gene]%20OR%20EPS8[gene]%20OR%20BSN[gene]%20OR%20SLITRK1[gene]%20OR%20ADRA2A[gene]%20OR%20ADAM10[gene]%20OR%20RPL22[gene]%20OR%20FLRT3[gene]%20OR%20DRP2[gene]%20OR%20LRFN4[gene]%20OR%20ERBIN[gene]%20OR%20SHISA6[gene]%20OR%20RAB8A[gene]%20OR%20PAK2[gene]%20OR%20LRFN3[gene]%20OR%20ARPC2[gene]%20OR%20VPS35[gene]%20OR%20SRC[gene]%20OR%20AP3D1[gene]%20OR%20DVL1[gene]%20OR%20WNT3A[gene]%20OR%20CALY[gene]%20OR%20DLGAP2[gene]%20OR%20CTBP1[gene]%20OR%20VPS18[gene]%20OR%20GRIN2D[gene]%20OR%20STX3[gene]%20OR%20SEMA3F[gene]%20OR%20GRM1[gene]%20OR%20CNIH2[gene]%20OR%20ABHD6[gene]%20OR%20GRIK3[gene]%20OR%20GRIK2[gene]%20OR%20APOE[gene]%20OR%20ACTB[gene]%20OR%20SYNGAP1[gene]%20OR%20CTNND1[gene]%20OR%20ERC2[gene]%20OR%20PIN1[gene]%20OR%20DLG4[gene]%20OR%20ADGRA1[gene]%20OR%20ADCY1[gene]%20OR%20FXR1[gene]%20OR%20ACTC1[gene]%20OR%20P2RX6[gene]%20OR%20DRD2[gene]%20OR%20PLEKHA5[gene]%20OR%20NRG1[gene]%20OR%20CTBP2[gene]%20OR%20DLGAP3[gene]%20OR%20CDH10[gene]%20OR%20NTNG2[gene]%20OR%20GABBR1[gene]%20OR%20CAMKV[gene]%20OR%20CACNG4[gene]%20OR%20HPCA[gene]%20OR%20SPARCL1[gene]%20OR%20FBXL20[gene]%20OR%20ARF6[gene]%20OR%20RELA[gene]%20OR%20PCDH8[gene]%20OR%20ABHD17A[gene]%20OR%20NTNG1[gene]%20OR%20NRGN[gene]%20OR%20SLC4A8[gene]%20OR%20SPTBN2[gene]%20OR%20EIF4A3[gene]%20OR%20GRID2[gene]%20OR%20NPTX2[gene]%20OR%20NPTN[gene]%20OR%20P2RY1[gene]%20OR%20RAP1A[gene]%20OR%20STAU1[gene]%20OR%20NLGN4Y[gene]%20OR%20DGKQ[gene]%20OR%20DYNLL2[gene]%20OR%20LGI1[gene]%20OR%20GPC4[gene]%20OR%20PRKAR1A[gene]%20OR%20DGKE[gene]%20OR%20PLG[gene]%20OR%20PLAT[gene]%20OR%20NSG1[gene]%20OR%20GRIK5[gene]%20OR%20ADAM23[gene]%20OR%20NOS1AP[gene]%20OR%20CAPRIN1[gene]%20OR%20ITGB1[gene]%20OR%20GRIN2C[gene]%20OR%20LRRTM2[gene]%20OR%20CACNG5[gene]%20OR%20KCNA3[gene]%20OR%20DTNBP1[gene]%20OR%20CALB1[gene]%20OR%20RGS14[gene]%20OR%20FBXO45[gene]%20OR%20NTRK3[gene]%20OR%20PCLO[gene]%20OR%20CACNG7[gene]%20OR%20DLGAP4[gene]%20OR%20BCAN[gene]%20OR%20IL1RAPL1[gene]%20OR%20SLITRK2[gene]%20OR%20FXYD6[gene]%20OR%20NAPB[gene]%20OR%20PPFIA3[gene]%20OR%20FARP1[gene]%20OR%20GRM3[gene]%20OR%20CAMK1[gene]%20OR%20SYN3[gene]%20OR%20DNM3[gene]%20OR%20KPNA1[gene]%20OR%20USP8[gene]%20OR%20GHRL[gene]%20OR%20FZD4[gene]%20OR%20DNAJB1[gene]%20OR%20TSPOAP1[gene]%20OR%20EPHA7[gene]%20OR%20GRM5[gene]%20OR%20JAK2[gene]%20OR%20RGS7BP[gene]%20OR%20ATP2B1[gene]%20OR%20PLCB1[gene]%20OR%20CSPG5[gene]%20OR%20PPP1CA[gene]%20OR%20PACSIN2[gene]%20OR%20PTK2B[gene]%20OR%20\n"
     ]
    },
    {
     "data": {
      "text/plain": [
       "6076"
      ]
     },
     "execution_count": 13,
     "metadata": {},
     "output_type": "execute_result"
    }
   ],
   "source": [
    "laux = ''\n",
    "for gens in list_genes:\n",
    "    laux = laux + gens + '[gene]%20OR%20' \n",
    "print(laux)"
   ]
  },
  {
   "cell_type": "code",
   "execution_count": 14,
   "id": "ebbc96c2",
   "metadata": {},
   "outputs": [
    {
     "data": {
      "text/plain": [
       "6076"
      ]
     },
     "execution_count": 14,
     "metadata": {},
     "output_type": "execute_result"
    }
   ],
   "source": [
    "len(laux)"
   ]
  },
  {
   "cell_type": "code",
   "execution_count": 16,
   "id": "c9cb4d2c",
   "metadata": {},
   "outputs": [
    {
     "name": "stdout",
     "output_type": "stream",
     "text": [
      "CTTNBP2[gene]%20OR%20HRAS[gene]%20OR%20NRCAM[gene]%20OR%20GHSR[gene]%20OR%20ARF4[gene]%20OR%20DNM1[gene]%20OR%20NPTX1[gene]%20OR%20GRIPAP1[gene]%20OR%20CACNG2[gene]%20OR%20SCN10A[gene]%20OR%20PRKCI[gene]%20OR%20PPP3CC[gene]%20OR%20PTPRD[gene]%20OR%20CBLN1[gene]%20OR%20PRRT2[gene]%20OR%20KCND2[gene]%20OR%20TAMALIN[gene]%20OR%20RNF10[gene]%20OR%20CDH11[gene]%20OR%20CDH8[gene]%20OR%20DRD4[gene]%20OR%20NLGN1[gene]%20OR%20SLITRK4[gene]%20OR%20LRRC4[gene]%20OR%20SYT1[gene]%20OR%20CNR1[gene]%20OR%20SHANK1[gene]%20OR%20HTR2A[gene]%20OR%20PHB2[gene]%20OR%20PRKCZ[gene]%20OR%20BCR[gene]%20OR%20CHRM1[gene]%20OR%20CNKSR2[gene]%20OR%20SLC30A3[gene]%20OR%20SH3GL3[gene]%20OR%20GSG1L[gene]%20OR%20ARHGAP22[gene]%20OR%20BIN1[gene]%20OR%20PURA[gene]%20OR%20CDK5[gene]%20OR%20GABRG2[gene]%20OR%20PLPPR4[gene]%20OR%20C1QBP[gene]%20OR%20CPT1C[gene]%20OR%20LRRK2[gene]%20OR%20NLGN4X[gene]%20OR%20SH3GL2[gene]%20OR%20SV2A[gene]%20OR%20PRKAR2B[gene]%20OR%20PRKAR1B[gene]%20OR%20EFNB3[gene]%20OR%20CDKL5[gene]%20OR%20ELAVL1[gene]%20OR%20NAPA[gene]%20OR%20AP2M1[gene]%20OR%20EFNB2[gene]%20OR%20AKAP9[gene]%20OR%20CPLX2[gene]%20OR%20SH3GL1[gene]%20OR%20TNIK[gene]%20OR%20SLC6A17[gene]%20OR%20PORCN[gene]%20OR%20GRIA1[gene]%20OR%20CANX[gene]%20OR%20CAMK4[gene]%20OR%20MAPK14[gene]%20OR%20CACNG3[gene]%20OR%20ARHGAP39[gene]%20OR%20SHANK2[gene]%20OR%20NUMB[gene]%20OR%20IL1RAP[gene]%20OR%20CLSTN2[gene]%20OR%20ADORA2B[gene]%20OR%20ADORA2A[gene]%20OR%20SRGN[gene]%20OR%20FLOT1[gene]%20OR%20RGS9[gene]%20OR%20PAK3[gene]%20OR%20KPNA2[gene]%20OR%20IL1RAPL2[gene]%20OR%20CADPS[gene]%20OR%20PPM1H[gene]%20OR%20CDH1[gene]%20OR%20ACTN1[gene]%20OR%20PPP3CA[gene]%20OR%20CLSTN3[gene]%20OR%20ARHGAP44[gene]%20OR%20BAIAP2[gene]%20OR%20LRRC4B[gene]%20OR%20WASF3[gene]%20OR%20GABRR1[gene]%20OR%20LRFN5[gene]%20OR%20SORCS3[gene]%20OR%20LYN[gene]%20OR%20PFN1[gene]%20OR%20GSK3B[gene]%20OR%20EPHB2[gene]%20OR%20NPTXR[gene]%20OR%20ATP2B3[gene]%20OR%20GRID1[gene]%20OR%20ARPC5L[gene]%20OR%20EPHA4[gene]%20OR%20EPHB1[gene]%20OR%20DLG1[gene]%20OR%20NRP2[gene]%20OR%20HOMER2[gene]%20OR%20ABHD17C[gene]%20OR%20DBN1[gene]%20OR%20STX1A[gene]%20OR%20SYT4[gene]%20OR%20SPTBN1[gene]%20OR%20PTPRO[gene]%20OR%20CBLN2[gene]%20OR%20RTN4R[gene]%20OR%20RHOA[gene]%20OR%20ERBB4[gene]%20OR%20CLSTN1[gene]%20OR%20PPP1CC[gene]%20OR%20ABLIM3[gene]%20OR%20CLCN3[gene]%20OR%20PPP2R2A[gene]%20OR%20YWHAZ[gene]%20OR%20HOMER1[gene]%20OR%20GRIN3A[gene]%20OR%20P2RY4[gene]%20OR%20P2RX1[gene]%20OR%20LRRC4C[gene]%20OR%20ELAVL4[gene]%20OR%20STXBP1[gene]%20OR%20WNT5A[gene]%20OR%20FZD9[gene]%20OR%20NOSTRIN[gene]%20OR%20PPP3CB[gene]%20OR%20DLG3[gene]%20OR%20DRD1[gene]%20OR%20TNR[gene]%20OR%20SYN2[gene]%20OR%20EIF4E[gene]%20OR%20AP2B1[gene]%20OR%20RAC1[gene]%20OR%20CORO1A[gene]%20OR%20OPHN1[gene]%20OR%20NETO1[gene]%20OR%20CRTC1[gene]%20OR%20HIP1[gene]%20OR%20VCP[gene]%20OR%20LRRTM3[gene]%20OR%20NRG3[gene]%20OR%20ADGRL3[gene]%20OR%20PRR7[gene]%20OR%20CADPS2[gene]%20OR%20SLC1A2[gene]%20OR%20HSPA8[gene]%20OR%20WNT7A[gene]%20OR%20GRIN2A[gene]%20OR%20PCDH17[gene]%20OR%20GIPC1[gene]%20OR%20STX4[gene]%20OR%20PSD2[gene]%20OR%20SHISA9[gene]%20OR%20ARC[gene]%20OR%20ITGB3[gene]%20OR%20ADCY8[gene]%20OR%20DRD3[gene]%20OR%20MAL2[gene]%20OR%20ATP2B2[gene]%20OR%20GUCY1B1[gene]%20OR%20DLGAP1[gene]%20OR%20RAB11A[gene]%20OR%20SCN2A[gene]%20OR%20PFN2[gene]%20OR%20GUCY1A1[gene]%20OR%20GPM6A[gene]%20OR%20ATP2B4[gene]%20OR%20FLOT2[gene]%20OR%20ACTBL2[gene]%20OR%20GRIP2[gene]%20OR%20DAG1[gene]%20OR%20PPP2R1A[gene]%20OR%20SNAP25[gene]%20OR%20SCRIB[gene]%20OR%20CPLX1[gene]%20OR%20SHISA7[gene]%20OR%20APBA1[gene]%20OR%20NRP1[gene]%20OR%20ADRA1A[gene]%20OR%20RNF19A[gene]%20OR%20NLGN3[gene]%20OR%20KCNA1[gene]%20OR%20ABR[gene]%20OR%20DNM2[gene]%20OR%20EPS8[gene]%20OR%20BSN[gene]%20OR%20SLITRK1[gene]%20OR%20ADRA2A[gene]%20OR%20ADAM10[gene]%20OR%20RPL22[gene]%20OR%20FLRT3[gene]%20OR%20DRP2[gene]%20OR%20LRFN4[gene]%20OR%20ERBIN[gene]%20OR%20SHISA6[gene]%20OR%20RAB8A[gene]%20OR%20PAK2[gene]%20OR%20LRFN3[gene]%20OR%20ARPC2[gene]%20OR%20VPS35[gene]%20OR%20SRC[gene]%20OR%20AP3D1[gene]%20OR%20DVL1[gene]%20OR%20WNT3A[gene]%20OR%20CALY[gene]%20OR%20DLGAP2[gene]%20OR%20CTBP1[gene]%20OR%20VPS18[gene]%20OR%20GRIN2D[gene]%20OR%20STX3[gene]%20OR%20SEMA3F[gene]%20OR%20GRM1[gene]%20OR%20CNIH2[gene]%20OR%20ABHD6[gene]%20OR%20GRIK3[gene]%20OR%20GRIK2[gene]%20OR%20APOE[gene]%20OR%20ACTB[gene]%20OR%20SYNGAP1[gene]%20OR%20CTNND1[gene]%20OR%20ERC2[gene]%20OR%20PIN1[gene]%20OR%20DLG4[gene]%20OR%20ADGRA1[gene]%20OR%20ADCY1[gene]%20OR%20FXR1[gene]%20OR%20ACTC1[gene]%20OR%20P2RX6[gene]%20OR%20DRD2[gene]%20OR%20PLEKHA5[gene]%20OR%20NRG1[gene]%20OR%20CTBP2[gene]%20OR%20DLGAP3[gene]%20OR%20CDH10[gene]%20OR%20NTNG2[gene]%20OR%20GABBR1[gene]%20OR%20CAMKV[gene]%20OR%20CACNG4[gene]%20OR%20HPCA[gene]%20OR%20SPARCL1[gene]%20OR%20FBXL20[gene]%20OR%20ARF6[gene]%20OR%20RELA[gene]%20OR%20PCDH8[gene]%20OR%20ABHD17A[gene]%20OR%20NTNG1[gene]%20OR%20NRGN[gene]%20OR%20SLC4A8[gene]%20OR%20SPTBN2[gene]%20OR%20EIF4A3[gene]%20OR%20GRID2[gene]%20OR%20NPTX2[gene]%20OR%20NPTN[gene]%20OR%20P2RY1[gene]%20OR%20RAP1A[gene]%20OR%20STAU1[gene]%20OR%20NLGN4Y[gene]%20OR%20DGKQ[gene]%20OR%20DYNLL2[gene]%20OR%20LGI1[gene]%20OR%20GPC4[gene]%20OR%20PRKAR1A[gene]%20OR%20DGKE[gene]%20OR%20PLG[gene]%20OR%20PLAT[gene]%20OR%20NSG1[gene]%20OR%20GRIK5[gene]%20OR%20ADAM23[gene]%20OR%20NOS1AP[gene]%20OR%20CAPRIN1[gene]%20OR%20ITGB1[gene]%20OR%20GRIN2C[gene]%20OR%20LRRTM2[gene]%20OR%20CACNG5[gene]%20OR%20KCNA3[gene]%20OR%20DTNBP1[gene]%20OR%20CALB1[gene]%20OR%20RGS14[gene]%20OR%20FBXO45[gene]%20OR%20NTRK3[gene]%20OR%20PCLO[gene]%20OR%20CACNG7[gene]%20OR%20DLGAP4[gene]%20OR%20BCAN[gene]%20OR%20IL1RAPL1[gene]%20OR%20SLITRK2[gene]%20OR%20FXYD6[gene]%20OR%20NAPB[gene]%20OR%20PPFIA3[gene]%20OR%20FARP1[gene]%20OR%20GRM3[gene]%20OR%20CAMK1[gene]%20OR%20SYN3[gene]%20OR%20DNM3[gene]%20OR%20KPNA1[gene]%20OR%20USP8[gene]%20OR%20GHRL[gene]%20OR%20FZD4[gene]%20OR%20DNAJB1[gene]%20OR%20TSPOAP1[gene]%20OR%20EPHA7[gene]%20OR%20GRM5[gene]%20OR%20JAK2[gene]%20OR%20RGS7BP[gene]%20OR%20ATP2B1[gene]%20OR%20PLCB1[gene]%20OR%20CSPG5[gene]%20OR%20PPP1CA[gene]%20OR%20PACSIN2[gene]%20OR%20PTK2B[gene]\n"
     ]
    }
   ],
   "source": [
    "lfinal = laux[0:6068]\n",
    "print(lfinal)"
   ]
  },
  {
   "cell_type": "code",
   "execution_count": null,
   "id": "3e321be3",
   "metadata": {},
   "outputs": [],
   "source": [
    "# This from above is used to generate a link in order to search all the genes into the ClinVar Webpage.\n",
    "# The link is the following:\n",
    "# https://www.ncbi.nlm.nih.gov/clinvar?term=CTTNBP2[gene]%20OR%20HRAS[gene]%20OR%20NRCAM[gene]%20OR%20GHSR[gene]%20OR%20ARF4[gene]%20OR%20DNM1[gene]%20OR%20NPTX1[gene]%20OR%20GRIPAP1[gene]%20OR%20CACNG2[gene]%20OR%20SCN10A[gene]%20OR%20PRKCI[gene]%20OR%20PPP3CC[gene]%20OR%20PTPRD[gene]%20OR%20CBLN1[gene]%20OR%20PRRT2[gene]%20OR%20KCND2[gene]%20OR%20TAMALIN[gene]%20OR%20RNF10[gene]%20OR%20CDH11[gene]%20OR%20CDH8[gene]%20OR%20DRD4[gene]%20OR%20NLGN1[gene]%20OR%20SLITRK4[gene]%20OR%20LRRC4[gene]%20OR%20SYT1[gene]%20OR%20CNR1[gene]%20OR%20SHANK1[gene]%20OR%20HTR2A[gene]%20OR%20PHB2[gene]%20OR%20PRKCZ[gene]%20OR%20BCR[gene]%20OR%20CHRM1[gene]%20OR%20CNKSR2[gene]%20OR%20SLC30A3[gene]%20OR%20SH3GL3[gene]%20OR%20GSG1L[gene]%20OR%20ARHGAP22[gene]%20OR%20BIN1[gene]%20OR%20PURA[gene]%20OR%20CDK5[gene]%20OR%20GABRG2[gene]%20OR%20PLPPR4[gene]%20OR%20C1QBP[gene]%20OR%20CPT1C[gene]%20OR%20LRRK2[gene]%20OR%20NLGN4X[gene]%20OR%20SH3GL2[gene]%20OR%20SV2A[gene]%20OR%20PRKAR2B[gene]%20OR%20PRKAR1B[gene]%20OR%20EFNB3[gene]%20OR%20CDKL5[gene]%20OR%20ELAVL1[gene]%20OR%20NAPA[gene]%20OR%20AP2M1[gene]%20OR%20EFNB2[gene]%20OR%20AKAP9[gene]%20OR%20CPLX2[gene]%20OR%20SH3GL1[gene]%20OR%20TNIK[gene]%20OR%20SLC6A17[gene]%20OR%20PORCN[gene]%20OR%20GRIA1[gene]%20OR%20CANX[gene]%20OR%20CAMK4[gene]%20OR%20MAPK14[gene]%20OR%20CACNG3[gene]%20OR%20ARHGAP39[gene]%20OR%20SHANK2[gene]%20OR%20NUMB[gene]%20OR%20IL1RAP[gene]%20OR%20CLSTN2[gene]%20OR%20ADORA2B[gene]%20OR%20ADORA2A[gene]%20OR%20SRGN[gene]%20OR%20FLOT1[gene]%20OR%20RGS9[gene]%20OR%20PAK3[gene]%20OR%20KPNA2[gene]%20OR%20IL1RAPL2[gene]%20OR%20CADPS[gene]%20OR%20PPM1H[gene]%20OR%20CDH1[gene]%20OR%20ACTN1[gene]%20OR%20PPP3CA[gene]%20OR%20CLSTN3[gene]%20OR%20ARHGAP44[gene]%20OR%20BAIAP2[gene]%20OR%20LRRC4B[gene]%20OR%20WASF3[gene]%20OR%20GABRR1[gene]%20OR%20LRFN5[gene]%20OR%20SORCS3[gene]%20OR%20LYN[gene]%20OR%20PFN1[gene]%20OR%20GSK3B[gene]%20OR%20EPHB2[gene]%20OR%20NPTXR[gene]%20OR%20ATP2B3[gene]%20OR%20GRID1[gene]%20OR%20ARPC5L[gene]%20OR%20EPHA4[gene]%20OR%20EPHB1[gene]%20OR%20DLG1[gene]%20OR%20NRP2[gene]%20OR%20HOMER2[gene]%20OR%20ABHD17C[gene]%20OR%20DBN1[gene]%20OR%20STX1A[gene]%20OR%20SYT4[gene]%20OR%20SPTBN1[gene]%20OR%20PTPRO[gene]%20OR%20CBLN2[gene]%20OR%20RTN4R[gene]%20OR%20RHOA[gene]%20OR%20ERBB4[gene]%20OR%20CLSTN1[gene]%20OR%20PPP1CC[gene]%20OR%20ABLIM3[gene]%20OR%20CLCN3[gene]%20OR%20PPP2R2A[gene]%20OR%20YWHAZ[gene]%20OR%20HOMER1[gene]%20OR%20GRIN3A[gene]%20OR%20P2RY4[gene]%20OR%20P2RX1[gene]%20OR%20LRRC4C[gene]%20OR%20ELAVL4[gene]%20OR%20STXBP1[gene]%20OR%20WNT5A[gene]%20OR%20FZD9[gene]%20OR%20NOSTRIN[gene]%20OR%20PPP3CB[gene]%20OR%20DLG3[gene]%20OR%20DRD1[gene]%20OR%20TNR[gene]%20OR%20SYN2[gene]%20OR%20EIF4E[gene]%20OR%20AP2B1[gene]%20OR%20RAC1[gene]%20OR%20CORO1A[gene]%20OR%20OPHN1[gene]%20OR%20NETO1[gene]%20OR%20CRTC1[gene]%20OR%20HIP1[gene]%20OR%20VCP[gene]%20OR%20LRRTM3[gene]%20OR%20NRG3[gene]%20OR%20ADGRL3[gene]%20OR%20PRR7[gene]%20OR%20CADPS2[gene]%20OR%20SLC1A2[gene]%20OR%20HSPA8[gene]%20OR%20WNT7A[gene]%20OR%20GRIN2A[gene]%20OR%20PCDH17[gene]%20OR%20GIPC1[gene]%20OR%20STX4[gene]%20OR%20PSD2[gene]%20OR%20SHISA9[gene]%20OR%20ARC[gene]%20OR%20ITGB3[gene]%20OR%20ADCY8[gene]%20OR%20DRD3[gene]%20OR%20MAL2[gene]%20OR%20ATP2B2[gene]%20OR%20GUCY1B1[gene]%20OR%20DLGAP1[gene]%20OR%20RAB11A[gene]%20OR%20SCN2A[gene]%20OR%20PFN2[gene]%20OR%20GUCY1A1[gene]%20OR%20GPM6A[gene]%20OR%20ATP2B4[gene]%20OR%20FLOT2[gene]%20OR%20ACTBL2[gene]%20OR%20GRIP2[gene]%20OR%20DAG1[gene]%20OR%20PPP2R1A[gene]%20OR%20SNAP25[gene]%20OR%20SCRIB[gene]%20OR%20CPLX1[gene]%20OR%20SHISA7[gene]%20OR%20APBA1[gene]%20OR%20NRP1[gene]%20OR%20ADRA1A[gene]%20OR%20RNF19A[gene]%20OR%20NLGN3[gene]%20OR%20KCNA1[gene]%20OR%20ABR[gene]%20OR%20DNM2[gene]%20OR%20EPS8[gene]%20OR%20BSN[gene]%20OR%20SLITRK1[gene]%20OR%20ADRA2A[gene]%20OR%20ADAM10[gene]%20OR%20RPL22[gene]%20OR%20FLRT3[gene]%20OR%20DRP2[gene]%20OR%20LRFN4[gene]%20OR%20ERBIN[gene]%20OR%20SHISA6[gene]%20OR%20RAB8A[gene]%20OR%20PAK2[gene]%20OR%20LRFN3[gene]%20OR%20ARPC2[gene]%20OR%20VPS35[gene]%20OR%20SRC[gene]%20OR%20AP3D1[gene]%20OR%20DVL1[gene]%20OR%20WNT3A[gene]%20OR%20CALY[gene]%20OR%20DLGAP2[gene]%20OR%20CTBP1[gene]%20OR%20VPS18[gene]%20OR%20GRIN2D[gene]%20OR%20STX3[gene]%20OR%20SEMA3F[gene]%20OR%20GRM1[gene]%20OR%20CNIH2[gene]%20OR%20ABHD6[gene]%20OR%20GRIK3[gene]%20OR%20GRIK2[gene]%20OR%20APOE[gene]%20OR%20ACTB[gene]%20OR%20SYNGAP1[gene]%20OR%20CTNND1[gene]%20OR%20ERC2[gene]%20OR%20PIN1[gene]%20OR%20DLG4[gene]%20OR%20ADGRA1[gene]%20OR%20ADCY1[gene]%20OR%20FXR1[gene]%20OR%20ACTC1[gene]%20OR%20P2RX6[gene]%20OR%20DRD2[gene]%20OR%20PLEKHA5[gene]%20OR%20NRG1[gene]%20OR%20CTBP2[gene]%20OR%20DLGAP3[gene]%20OR%20CDH10[gene]%20OR%20NTNG2[gene]%20OR%20GABBR1[gene]%20OR%20CAMKV[gene]%20OR%20CACNG4[gene]%20OR%20HPCA[gene]%20OR%20SPARCL1[gene]%20OR%20FBXL20[gene]%20OR%20ARF6[gene]%20OR%20RELA[gene]%20OR%20PCDH8[gene]%20OR%20ABHD17A[gene]%20OR%20NTNG1[gene]%20OR%20NRGN[gene]%20OR%20SLC4A8[gene]%20OR%20SPTBN2[gene]%20OR%20EIF4A3[gene]%20OR%20GRID2[gene]%20OR%20NPTX2[gene]%20OR%20NPTN[gene]%20OR%20P2RY1[gene]%20OR%20RAP1A[gene]%20OR%20STAU1[gene]%20OR%20NLGN4Y[gene]%20OR%20DGKQ[gene]%20OR%20DYNLL2[gene]%20OR%20LGI1[gene]%20OR%20GPC4[gene]%20OR%20PRKAR1A[gene]%20OR%20DGKE[gene]%20OR%20PLG[gene]%20OR%20PLAT[gene]%20OR%20NSG1[gene]%20OR%20GRIK5[gene]%20OR%20ADAM23[gene]%20OR%20NOS1AP[gene]%20OR%20CAPRIN1[gene]%20OR%20ITGB1[gene]%20OR%20GRIN2C[gene]%20OR%20LRRTM2[gene]%20OR%20CACNG5[gene]%20OR%20KCNA3[gene]%20OR%20DTNBP1[gene]%20OR%20CALB1[gene]%20OR%20RGS14[gene]%20OR%20FBXO45[gene]%20OR%20NTRK3[gene]%20OR%20PCLO[gene]%20OR%20CACNG7[gene]%20OR%20DLGAP4[gene]%20OR%20BCAN[gene]%20OR%20IL1RAPL1[gene]%20OR%20SLITRK2[gene]%20OR%20FXYD6[gene]%20OR%20NAPB[gene]%20OR%20PPFIA3[gene]%20OR%20FARP1[gene]%20OR%20GRM3[gene]%20OR%20CAMK1[gene]%20OR%20SYN3[gene]%20OR%20DNM3[gene]%20OR%20KPNA1[gene]%20OR%20USP8[gene]%20OR%20GHRL[gene]%20OR%20FZD4[gene]%20OR%20DNAJB1[gene]%20OR%20TSPOAP1[gene]%20OR%20EPHA7[gene]%20OR%20GRM5[gene]%20OR%20JAK2[gene]%20OR%20RGS7BP[gene]%20OR%20ATP2B1[gene]%20OR%20PLCB1[gene]%20OR%20CSPG5[gene]%20OR%20PPP1CA[gene]%20OR%20PACSIN2[gene]%20OR%20PTK2B[gene]\n",
    "\n",
    "# Which is composed by:\n",
    "# https:// CLINVAR-WEBPAGE ? term= GENE_NAME[gene]%20OR%20GENE_NAME[gene].....\n",
    "\n",
    "# Then you just need to add to the search the parameters (pathogenic, likely pathogenic, Missence, nonsense, frameshift, splicesite)\n",
    "\n",
    "# If you try to do the search manually using the search bar from Clinvar using: \n",
    "# CTTNBP2[gene] OR HRAS[gene] OR NRCAM[gene] \n",
    "# It will not start the search so you need to do that via link. That is why this program is useful for."
   ]
  },
  {
   "cell_type": "code",
   "execution_count": null,
   "id": "0b2a7a69",
   "metadata": {},
   "outputs": [],
   "source": [
    "# At the end we can obtain a full .txt file with all the molecular consequences (missense, nonsense, framshift, splicesites)\n",
    "# or we can get them separetely into 4 diferent files."
   ]
  }
 ],
 "metadata": {
  "kernelspec": {
   "display_name": "Python 3 (ipykernel)",
   "language": "python",
   "name": "python3"
  },
  "language_info": {
   "codemirror_mode": {
    "name": "ipython",
    "version": 3
   },
   "file_extension": ".py",
   "mimetype": "text/x-python",
   "name": "python",
   "nbconvert_exporter": "python",
   "pygments_lexer": "ipython3",
   "version": "3.9.7"
  }
 },
 "nbformat": 4,
 "nbformat_minor": 5
}
