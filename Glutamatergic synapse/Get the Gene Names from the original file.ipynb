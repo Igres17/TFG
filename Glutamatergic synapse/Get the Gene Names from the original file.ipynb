{
 "cells": [
  {
   "cell_type": "code",
   "execution_count": null,
   "id": "3c9ef5a7",
   "metadata": {},
   "outputs": [],
   "source": [
    "# This simply program it is only used to retrieve the gene_names from the whole file \n",
    "# (Glutamatergicsynapse+GN.txt). Duplicates are also removed"
   ]
  },
  {
   "cell_type": "code",
   "execution_count": 21,
   "id": "d6f894d9",
   "metadata": {},
   "outputs": [],
   "source": [
    "import pandas as pd"
   ]
  },
  {
   "cell_type": "code",
   "execution_count": 22,
   "id": "7063d460",
   "metadata": {},
   "outputs": [
    {
     "data": {
      "text/plain": [
       "0      CTTNBP2\n",
       "2         HRAS\n",
       "4        NRCAM\n",
       "5         GHSR\n",
       "6         ARF4\n",
       "        ...   \n",
       "392      PLCB1\n",
       "393      CSPG5\n",
       "394     PPP1CA\n",
       "395    PACSIN2\n",
       "396      PTK2B\n",
       "Name: Gene_name, Length: 317, dtype: object"
      ]
     },
     "execution_count": 22,
     "metadata": {},
     "output_type": "execute_result"
    }
   ],
   "source": [
    "df = pd.read_csv(\"Glutamatergicsynapse+GN.txt\", sep=\"\\t\", header=0)\n",
    "#df.head()\n",
    "df_aux = df.drop_duplicates(subset=['Gene_name'])\n",
    "df_aux = df_aux.dropna()\n",
    "#df_aux = df_aux[df_aux['Gene_name']==\" \"]\n",
    "gene_names = df_aux['Gene_name']\n",
    "gene_names"
   ]
  },
  {
   "cell_type": "code",
   "execution_count": 23,
   "id": "7f64e6b6",
   "metadata": {},
   "outputs": [],
   "source": [
    "gene_names.to_csv('GN.txt', header=False, index=False, sep='\\t', mode='a')"
   ]
  },
  {
   "cell_type": "code",
   "execution_count": null,
   "id": "2af9e539",
   "metadata": {},
   "outputs": [],
   "source": [
    "# FOR the file with GRIN1 and GRIN2B are just added manually"
   ]
  }
 ],
 "metadata": {
  "kernelspec": {
   "display_name": "Python 3 (ipykernel)",
   "language": "python",
   "name": "python3"
  },
  "language_info": {
   "codemirror_mode": {
    "name": "ipython",
    "version": 3
   },
   "file_extension": ".py",
   "mimetype": "text/x-python",
   "name": "python",
   "nbconvert_exporter": "python",
   "pygments_lexer": "ipython3",
   "version": "3.9.7"
  }
 },
 "nbformat": 4,
 "nbformat_minor": 5
}
