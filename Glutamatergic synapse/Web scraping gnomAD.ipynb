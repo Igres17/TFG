{
 "cells": [
  {
   "cell_type": "code",
   "execution_count": null,
   "id": "0690efb4",
   "metadata": {},
   "outputs": [],
   "source": [
    "# This program is re-used from the other project we started months ago.\n",
    "# It use mostly all the functions exepct the ones that select the version 3.1.2\n",
    "# This time we're going to use v2.1.1"
   ]
  },
  {
   "cell_type": "code",
   "execution_count": 1,
   "id": "499e6d7c",
   "metadata": {},
   "outputs": [],
   "source": [
    "# This program, search every gene in the GN.txt in the gnomad webpage\n",
    "# It selects automatically the version (2.1.1) and search for the genes\n",
    "# The program, downloads a .csv file of every gene and gives an output file with the genes that are nout found, or there's an error with them\n",
    "# This file will we checked manually to find out the errors.\n",
    "# All the csv files will we processed with git-bash in order to obtain 1 single file."
   ]
  },
  {
   "cell_type": "code",
   "execution_count": 9,
   "id": "59c100f4",
   "metadata": {},
   "outputs": [],
   "source": [
    "# Load libraries\n",
    "from selenium import webdriver\n",
    "from selenium.webdriver.support.ui import WebDriverWait\n",
    "from selenium.webdriver.support import expected_conditions as EC\n",
    "from selenium.webdriver.common.by import By\n",
    "from selenium.webdriver.common.keys import Keys\n",
    "from time import sleep\n",
    "import pandas as pd\n",
    "from selenium.common.exceptions import TimeoutException\n"
   ]
  },
  {
   "cell_type": "code",
   "execution_count": 10,
   "id": "d9278f6d",
   "metadata": {},
   "outputs": [
    {
     "name": "stdout",
     "output_type": "stream",
     "text": [
      "['CTTNBP2', 'HRAS', 'NRCAM', 'GHSR', 'ARF4', 'DNM1', 'NPTX1', 'GRIPAP1', 'CACNG2', 'SCN10A', 'PRKCI', 'PPP3CC', 'PTPRD', 'CBLN1', 'PRRT2', 'KCND2', 'TAMALIN', 'RNF10', 'CDH11', 'CDH8', 'DRD4', 'NLGN1', 'SLITRK4', 'LRRC4', 'SYT1', 'CNR1', 'SHANK1', 'HTR2A', 'PHB2', 'PRKCZ', 'BCR', 'CHRM1', 'CNKSR2', 'SLC30A3', 'SH3GL3', 'GSG1L', 'ARHGAP22', 'BIN1', 'PURA', 'CDK5', 'GABRG2', 'PLPPR4', 'C1QBP', 'CPT1C', 'LRRK2', 'NLGN4X', 'SH3GL2', 'SV2A', 'PRKAR2B', 'PRKAR1B', 'EFNB3', 'CDKL5', 'ELAVL1', 'NAPA', 'AP2M1', 'EFNB2', 'AKAP9', 'CPLX2', 'SH3GL1', 'TNIK', 'SLC6A17', 'PORCN', 'GRIA1', 'CANX', 'CAMK4', 'MAPK14', 'CACNG3', 'ARHGAP39', 'SHANK2', 'NUMB', 'IL1RAP', 'CLSTN2', 'ADORA2B', 'ADORA2A', 'SRGN', 'FLOT1', 'RGS9', 'PAK3', 'KPNA2', 'IL1RAPL2', 'CADPS', 'PPM1H', 'CDH1', 'ACTN1', 'PPP3CA', 'CLSTN3', 'ARHGAP44', 'BAIAP2', 'LRRC4B', 'WASF3', 'GABRR1', 'LRFN5', 'SORCS3', 'LYN', 'PFN1', 'GSK3B', 'EPHB2', 'NPTXR', 'ATP2B3', 'GRID1', 'ARPC5L', 'EPHA4', 'EPHB1', 'DLG1', 'NRP2', 'HOMER2', 'ABHD17C', 'DBN1', 'STX1A', 'SYT4', 'SPTBN1', 'PTPRO', 'CBLN2', 'RTN4R', 'RHOA', 'ERBB4', 'CLSTN1', 'PPP1CC', 'ABLIM3', 'CLCN3', 'PPP2R2A', 'YWHAZ', 'HOMER1', 'GRIN3A', 'P2RY4', 'P2RX1', 'LRRC4C', 'ELAVL4', 'STXBP1', 'WNT5A', 'FZD9', 'NOSTRIN', 'PPP3CB', 'DLG3', 'DRD1', 'TNR', 'SYN2', 'EIF4E', 'AP2B1', 'RAC1', 'CORO1A', 'OPHN1', 'NETO1', 'CRTC1', 'HIP1', 'VCP', 'LRRTM3', 'NRG3', 'ADGRL3', 'PRR7', 'CADPS2', 'SLC1A2', 'HSPA8', 'WNT7A', 'GRIN2A', 'PCDH17', 'GIPC1', 'STX4', 'PSD2', 'SHISA9', 'ARC', 'ITGB3', 'ADCY8', 'DRD3', 'MAL2', 'ATP2B2', 'GUCY1B1', 'DLGAP1', 'RAB11A', 'SCN2A', 'PFN2', 'GUCY1A1', 'GPM6A', 'ATP2B4', 'FLOT2', 'ACTBL2', 'GRIP2', 'DAG1', 'PPP2R1A', 'SNAP25', 'SCRIB', 'CPLX1', 'SHISA7', 'APBA1', 'NRP1', 'ADRA1A', 'RNF19A', 'NLGN3', 'KCNA1', 'ABR', 'DNM2', 'EPS8', 'BSN', 'SLITRK1', 'ADRA2A', 'ADAM10', 'RPL22', 'FLRT3', 'DRP2', 'LRFN4', 'ERBIN', 'SHISA6', 'RAB8A', 'PAK2', 'LRFN3', 'ARPC2', 'VPS35', 'SRC', 'AP3D1', 'DVL1', 'WNT3A', 'CALY', 'DLGAP2', 'CTBP1', 'VPS18', 'GRIN2D', 'STX3', 'SEMA3F', 'GRM1', 'CNIH2', 'ABHD6', 'GRIK3', 'GRIK2', 'APOE', 'ACTB', 'SYNGAP1', 'CTNND1', 'ERC2', 'PIN1', 'DLG4', 'ADGRA1', 'ADCY1', 'FXR1', 'ACTC1', 'P2RX6', 'DRD2', 'PLEKHA5', 'NRG1', 'CTBP2', 'DLGAP3', 'CDH10', 'NTNG2', 'GABBR1', 'CAMKV', 'CACNG4', 'HPCA', 'SPARCL1', 'FBXL20', 'ARF6', 'RELA', 'PCDH8', 'ABHD17A', 'NTNG1', 'NRGN', 'SLC4A8', 'SPTBN2', 'EIF4A3', 'GRID2', 'NPTX2', 'NPTN', 'P2RY1', 'RAP1A', 'STAU1', 'NLGN4Y', 'DGKQ', 'DYNLL2', 'LGI1', 'GPC4', 'PRKAR1A', 'DGKE', 'PLG', 'PLAT', 'NSG1', 'GRIK5', 'ADAM23', 'NOS1AP', 'CAPRIN1', 'ITGB1', 'GRIN2C', 'LRRTM2', 'CACNG5', 'KCNA3', 'DTNBP1', 'CALB1', 'RGS14', 'FBXO45', 'NTRK3', 'PCLO', 'CACNG7', 'DLGAP4', 'BCAN', 'IL1RAPL1', 'SLITRK2', 'FXYD6', 'NAPB', 'PPFIA3', 'FARP1', 'GRM3', 'CAMK1', 'SYN3', 'DNM3', 'KPNA1', 'USP8', 'GHRL', 'FZD4', 'DNAJB1', 'TSPOAP1', 'EPHA7', 'GRM5', 'JAK2', 'RGS7BP', 'ATP2B1', 'PLCB1', 'CSPG5', 'PPP1CA', 'PACSIN2', 'PTK2B']\n"
     ]
    },
    {
     "data": {
      "text/plain": [
       "317"
      ]
     },
     "execution_count": 10,
     "metadata": {},
     "output_type": "execute_result"
    }
   ],
   "source": [
    "# Open the file with the gene names to search them\n",
    "file = open('GN.txt','r')\n",
    "lines = file.readlines()\n",
    "file.close()\n",
    "list_genes = []\n",
    "for genes in lines:\n",
    "    list_genes.append(genes.strip('\\n'))\n",
    "print(list_genes)\n",
    "len(list_genes)"
   ]
  },
  {
   "cell_type": "code",
   "execution_count": 11,
   "id": "fcdc6f06",
   "metadata": {},
   "outputs": [
    {
     "name": "stderr",
     "output_type": "stream",
     "text": [
      "C:\\Users\\sergi\\AppData\\Local\\Temp/ipykernel_13580/4110249326.py:19: DeprecationWarning: executable_path has been deprecated, please pass in a Service object\n",
      "  driver = webdriver.Chrome(driver_path, chrome_options=options)\n",
      "C:\\Users\\sergi\\AppData\\Local\\Temp/ipykernel_13580/4110249326.py:19: DeprecationWarning: use options instead of chrome_options\n",
      "  driver = webdriver.Chrome(driver_path, chrome_options=options)\n"
     ]
    },
    {
     "name": "stdout",
     "output_type": "stream",
     "text": [
      "[]\n",
      "317\n"
     ]
    }
   ],
   "source": [
    "count = 0 # incicilizes a count to use it like a break while doing the query in order to not collapse the webapge\n",
    "list_not_found = [] # list to not found genes\n",
    "compr = 0 # per comprovar el nombre final\n",
    "\n",
    "# This for gets every gene and search it into gnomAD webpage in order to get a csv file for easch gene\n",
    "for genes in list_genes:\n",
    "    count = count + 1\n",
    "    compr = compr + 1\n",
    "    try:\n",
    "        \n",
    "        # Configurate navigation options\n",
    "        options =  webdriver.ChromeOptions()\n",
    "        options.add_argument('--start-maximized')\n",
    "        options.add_argument('--disable-extensions')\n",
    "        \n",
    "        # choose the driver path we're going to use (chrome in this case)\n",
    "        driver_path = 'chromedriver.exe'\n",
    "\n",
    "        driver = webdriver.Chrome(driver_path, chrome_options=options)\n",
    "\n",
    "        # Inicialize google\n",
    "        driver.get('https://gnomad.broadinstitute.org/')\n",
    "\n",
    "        # Click into the search bar\n",
    "        WebDriverWait(driver, 30)\\\n",
    "            .until(EC.element_to_be_clickable((By.XPATH,\n",
    "                                              '/html/body/div/div[3]/div[2]/span/div/input')))\\\n",
    "            .click()\n",
    "\n",
    "        sleep(1)\n",
    "\n",
    "\n",
    "        # Search every gene in list_genes in ClinVar\n",
    "        WebDriverWait(driver, 30)\\\n",
    "        .until(EC.element_to_be_clickable((By.XPATH,\n",
    "                                          '/html/body/div/div[3]/div[2]/span/div/input')))\\\n",
    "        .send_keys(genes)\n",
    "\n",
    "        sleep(1)\n",
    "\n",
    "        # Click enter to search   \n",
    "        WebDriverWait(driver, 30)\\\n",
    "        .until(EC.element_to_be_clickable((By.XPATH,\n",
    "                                          '/html/body/div/div[3]/div[2]/span/div/input')))\\\n",
    "        .send_keys(Keys.ENTER)\n",
    "\n",
    "        sleep(5)\n",
    "\n",
    "        # Click to download csv\n",
    "        WebDriverWait(driver, 100)\\\n",
    "        .until(EC.element_to_be_clickable((By.XPATH,\n",
    "                                            \"//button[text()='Export variants to CSV']\")))\\\n",
    "        .click()\n",
    "\n",
    "        sleep(1)\n",
    "\n",
    "        # When count is 0, stop the query for 20 seconds in order to not callapse the webpage. To avoid quary rate limit exceeded\n",
    "        if count==10:\n",
    "            sleep(20)\n",
    "            count = 0\n",
    "\n",
    "        driver.close()\n",
    "    \n",
    "    # If the gene is not found append it into a list \n",
    "    except TimeoutException as ex:\n",
    "        list_not_found.append(genes)\n",
    "        print(list_not_found)\n",
    "\n",
    "print(list_not_found)\n",
    "print(compr)"
   ]
  },
  {
   "cell_type": "code",
   "execution_count": 12,
   "id": "73cc67b0",
   "metadata": {},
   "outputs": [],
   "source": [
    "outF = open(\"Notfound(GnomAD).txt\", \"w\")\n",
    "for line in  list_not_found:\n",
    "  # write line to output file\n",
    "    outF.write(line)\n",
    "    outF.write(\"\\n\") #--> si volgues separar lina per linia afegiria això\n",
    "outF.close()"
   ]
  },
  {
   "cell_type": "code",
   "execution_count": null,
   "id": "9fe70820",
   "metadata": {},
   "outputs": [],
   "source": []
  },
  {
   "cell_type": "code",
   "execution_count": null,
   "id": "99a1ff63",
   "metadata": {},
   "outputs": [],
   "source": []
  }
 ],
 "metadata": {
  "kernelspec": {
   "display_name": "Python 3 (ipykernel)",
   "language": "python",
   "name": "python3"
  },
  "language_info": {
   "codemirror_mode": {
    "name": "ipython",
    "version": 3
   },
   "file_extension": ".py",
   "mimetype": "text/x-python",
   "name": "python",
   "nbconvert_exporter": "python",
   "pygments_lexer": "ipython3",
   "version": "3.9.7"
  }
 },
 "nbformat": 4,
 "nbformat_minor": 5
}
