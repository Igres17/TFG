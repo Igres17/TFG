{
 "cells": [
  {
   "cell_type": "code",
   "execution_count": 8,
   "id": "8fc5a1f1",
   "metadata": {},
   "outputs": [],
   "source": [
    "# This small program, retrieves a list of the gene names into the myOutFile_table(Uniprot).txt and gives and output file: myOutFile_GeneName(Uniprot).txt"
   ]
  },
  {
   "cell_type": "code",
   "execution_count": 9,
   "id": "3480e50a",
   "metadata": {},
   "outputs": [],
   "source": [
    "import pandas as pd"
   ]
  },
  {
   "cell_type": "code",
   "execution_count": 10,
   "id": "02d25f48",
   "metadata": {},
   "outputs": [],
   "source": [
    "df=pd.read_csv('myOutFile_table(Uniprot).txt', delimiter=' ')\n",
    "del df['ID']\n",
    "del df['Uniprot_code']\n",
    "del df['Pfam_code']\n",
    "del df['Transmembrane_Regions']\n",
    "#df.head()\n",
    "#df[0:50]"
   ]
  },
  {
   "cell_type": "code",
   "execution_count": 11,
   "id": "4808aee2",
   "metadata": {},
   "outputs": [],
   "source": [
    "df.to_csv(r'myOutFile_GeneName(Uniprot).txt', header=True, index=None, sep=' ', mode='a')"
   ]
  },
  {
   "cell_type": "code",
   "execution_count": null,
   "id": "1d244603",
   "metadata": {},
   "outputs": [],
   "source": []
  },
  {
   "cell_type": "code",
   "execution_count": null,
   "id": "d5c893be",
   "metadata": {},
   "outputs": [],
   "source": []
  },
  {
   "cell_type": "code",
   "execution_count": null,
   "id": "e02fa431",
   "metadata": {},
   "outputs": [],
   "source": []
  }
 ],
 "metadata": {
  "kernelspec": {
   "display_name": "Python 3 (ipykernel)",
   "language": "python",
   "name": "python3"
  },
  "language_info": {
   "codemirror_mode": {
    "name": "ipython",
    "version": 3
   },
   "file_extension": ".py",
   "mimetype": "text/x-python",
   "name": "python",
   "nbconvert_exporter": "python",
   "pygments_lexer": "ipython3",
   "version": "3.9.7"
  }
 },
 "nbformat": 4,
 "nbformat_minor": 5
}
