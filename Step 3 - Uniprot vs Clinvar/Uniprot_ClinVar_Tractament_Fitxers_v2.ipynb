{
 "cells": [
  {
   "cell_type": "code",
   "execution_count": 6,
   "id": "747c7f9a",
   "metadata": {},
   "outputs": [],
   "source": [
    "# Import libraries\n",
    "import pandas as pd\n",
    "import numpy as np"
   ]
  },
  {
   "cell_type": "code",
   "execution_count": 7,
   "id": "82958012",
   "metadata": {},
   "outputs": [],
   "source": [
    "# opens with pandas both Uniprot and Clinvar files\n",
    "def open_file(file,delim):\n",
    "    df = pd.read_csv(file, delimiter = delim)\n",
    "    return(df)"
   ]
  },
  {
   "cell_type": "code",
   "execution_count": 8,
   "id": "19a670f9",
   "metadata": {},
   "outputs": [],
   "source": [
    "# Process Uniprot file\n",
    "def proc_uniprot(df):\n",
    "    df['Gene_name'] = df['Gene_name'].astype('str')\n",
    "    # L'ELIMINACIÓ S'HA DE FER EN 2 PASSOS PERQUÉ SINÓ ELIMINA ELS N DELS NOMS DELS GENS -->ELIMINAVA NAME=N\n",
    "    df['Gene_name'] = df['Gene_name'].map(lambda x: x.lstrip('Name').rstrip('')) # Eliminar 'Name'' dels noms\n",
    "    df['Gene_name'] = df['Gene_name'].map(lambda x: x.lstrip('ORFNames').rstrip('')) # Eliminar 'Name'' dels noms\n",
    "    df['Gene_name'] = df['Gene_name'].map(lambda x: x.lstrip('=').rstrip('')) # Eliminar '='' dels noms\n",
    "    df['Pfam_code'] = df['Pfam_code'].astype('str')\n",
    "    df['Pfam_code'] = df['Pfam_code'].map(lambda x: x.lstrip('').rstrip('_')) # Eliminar '_'' dels final\n",
    "    df['Transmembrane_Regions'] = df['Transmembrane_Regions'].astype('str')\n",
    "    df['Transmembrane_Regions'] = df['Transmembrane_Regions'].map(lambda x: x.lstrip('').rstrip('_')) # Eliminar '_'' dels final\n",
    "    return(df)"
   ]
  },
  {
   "cell_type": "code",
   "execution_count": 9,
   "id": "185ed6d5",
   "metadata": {},
   "outputs": [],
   "source": [
    "# Process Clinvar file\n",
    "def proc_clinvar(df):\n",
    "    df['Gene(s)'] = df['Gene(s)'].astype('str')\n",
    "    return(df)"
   ]
  },
  {
   "cell_type": "code",
   "execution_count": 10,
   "id": "5df2adb6",
   "metadata": {},
   "outputs": [],
   "source": [
    "# The objective of the program is to treat the uniprot and clinvar files to get all the items in file splited by the same charachter\n",
    "# we will obtain 2 files (myOutFile_table(Uniprot).txt and myOutFile_table(Clinvar).txt) easily readable with pandas and cantaining\n",
    "# the items we want them to contain\n",
    "df_uniprot = open_file('myOutFile(Uniprot).txt', \";\")\n",
    "df_clinvar = open_file('myOutFile(Clinvar)_(2).txt', \" \")\n",
    "treated_uniprot = proc_uniprot(df_uniprot)\n",
    "treated_clinvar = proc_clinvar(df_clinvar)\n",
    "\n",
    "# Get .txt outputs of the proccesed files named= myOutFile_table(Uniprot).txt and myOutFile_table(ClinVar).txt\n",
    "treated_uniprot.to_csv(r'myOutFile_table(Uniprot).txt', header=True, index=None, sep=' ', mode='w')\n",
    "treated_clinvar.to_csv(r'myOutFile_table(ClinVar)_(2).txt', header=True, index=None, sep=' ', mode='w')\n"
   ]
  },
  {
   "cell_type": "code",
   "execution_count": null,
   "id": "27ddeac9",
   "metadata": {},
   "outputs": [],
   "source": []
  },
  {
   "cell_type": "code",
   "execution_count": null,
   "id": "59c7358c",
   "metadata": {},
   "outputs": [],
   "source": []
  }
 ],
 "metadata": {
  "kernelspec": {
   "display_name": "Python 3 (ipykernel)",
   "language": "python",
   "name": "python3"
  },
  "language_info": {
   "codemirror_mode": {
    "name": "ipython",
    "version": 3
   },
   "file_extension": ".py",
   "mimetype": "text/x-python",
   "name": "python",
   "nbconvert_exporter": "python",
   "pygments_lexer": "ipython3",
   "version": "3.9.7"
  }
 },
 "nbformat": 4,
 "nbformat_minor": 5
}
