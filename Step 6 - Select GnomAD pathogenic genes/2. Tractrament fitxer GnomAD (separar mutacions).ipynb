{
 "cells": [
  {
   "cell_type": "code",
   "execution_count": 1,
   "id": "8e82ebc2",
   "metadata": {},
   "outputs": [],
   "source": [
    "# Import the required libraries\n",
    "import pandas as pd\n",
    "import numpy as np"
   ]
  },
  {
   "cell_type": "code",
   "execution_count": 2,
   "id": "04028dd6",
   "metadata": {},
   "outputs": [],
   "source": [
    "# From a Gnomad file , open and create a dataframe with all the information\n",
    "def file_to_df(file):\n",
    "    file = open(file,'r')\n",
    "    lines = file.readlines()\n",
    "    file.close()\n",
    "    df = pd.read_csv('Match(Gnomad)_nonPatho_Pathogenic.txt', delimiter = \" \")\n",
    "    df.rename(columns={'HGVS Consequence': 'HGVSConsequence'}, inplace=True)\n",
    "    df = df[df['HGVSConsequence'].notna()] # Takes all rows from HGVS_Consequence which are not NA\n",
    "    return(df)"
   ]
  },
  {
   "cell_type": "code",
   "execution_count": 3,
   "id": "4f73e46e",
   "metadata": {},
   "outputs": [],
   "source": [
    "# This function firts selects the columns that are from our interest in the df --> \"Gene(s)\", \"HGVS_Consequence\"\n",
    "# Then separates the column Port_change which looks like this: R630* into -->\n",
    "#       inital_aa: R, position: 630 and final_aa: blank(It does not identify the *)\n",
    "# Then it replaces blank spaces with NAs to after that replace the NAs with TER\n",
    "# To finish, it just gets the columns which we're interested in\n",
    "def df_to_dfwanted(df):\n",
    "    gene_protchange = df[[\"Gene(s)\", \"HGVSConsequence\"]]\n",
    "    gene_protchange[['initial_aa', 'position', 'final_aa']] = gene_protchange['HGVSConsequence'].str.extract('([A-Za-z]+)(\\d+\\.?\\d*)([A-Za-z]*)', expand = True)\n",
    "    gene_protchange = gene_protchange.replace('', np.nan)\n",
    "    gene_protchange['final_aa'].fillna('TER', inplace=True)\n",
    "    gene_protchange = gene_protchange[[\"Gene(s)\", \"position\", \"initial_aa\", \"final_aa\"]]\n",
    "    return(gene_protchange)"
   ]
  },
  {
   "cell_type": "code",
   "execution_count": 4,
   "id": "ae98b9fa",
   "metadata": {},
   "outputs": [],
   "source": [
    "def dfwanted_to_output(gene_protchange):\n",
    "    gene_protchange.to_csv('Match(Gnomad)_nonPatho_Pathogenic_final.txt', header=True, index=None, sep=' ', mode='w')"
   ]
  },
  {
   "cell_type": "code",
   "execution_count": 5,
   "id": "bd44af16",
   "metadata": {},
   "outputs": [],
   "source": [
    "# The required items are obtained from a file downloaded from Gnomad are given as an output in .txt\n",
    "df = file_to_df('Match(Gnomad)_nonPatho_Pathogenic.txt')\n",
    "gene_protchange = df_to_dfwanted(df)\n",
    "gene_protchange['position'] = gene_protchange['position'].astype(str)\n",
    "out = dfwanted_to_output(gene_protchange)"
   ]
  },
  {
   "cell_type": "code",
   "execution_count": null,
   "id": "7b4d2680",
   "metadata": {},
   "outputs": [],
   "source": []
  }
 ],
 "metadata": {
  "kernelspec": {
   "display_name": "Python 3 (ipykernel)",
   "language": "python",
   "name": "python3"
  },
  "language_info": {
   "codemirror_mode": {
    "name": "ipython",
    "version": 3
   },
   "file_extension": ".py",
   "mimetype": "text/x-python",
   "name": "python",
   "nbconvert_exporter": "python",
   "pygments_lexer": "ipython3",
   "version": "3.9.7"
  }
 },
 "nbformat": 4,
 "nbformat_minor": 5
}
