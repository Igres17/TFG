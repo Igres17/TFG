{
 "cells": [
  {
   "cell_type": "code",
   "execution_count": null,
   "id": "3c9ef5a7",
   "metadata": {},
   "outputs": [],
   "source": [
    "# This simply program it is only used to retrieve the gene_names from the whole file \n",
    "# (Glutamatergicsynapse+GN.txt). Duplicates are also removed"
   ]
  },
  {
   "cell_type": "code",
   "execution_count": 5,
   "id": "d6f894d9",
   "metadata": {},
   "outputs": [],
   "source": [
    "import pandas as pd"
   ]
  },
  {
   "cell_type": "code",
   "execution_count": 12,
   "id": "7063d460",
   "metadata": {},
   "outputs": [
    {
     "data": {
      "text/plain": [
       "0          AAK1\n",
       "1       ABHD17A\n",
       "2       ABHD17B\n",
       "3       ABHD17C\n",
       "5          ABI1\n",
       "         ...   \n",
       "1228      YWHAG\n",
       "1229      YWHAH\n",
       "1230      YWHAQ\n",
       "1231      YWHAZ\n",
       "1232     ZDHHC5\n",
       "Name: Gene_name, Length: 1052, dtype: object"
      ]
     },
     "execution_count": 12,
     "metadata": {},
     "output_type": "execute_result"
    }
   ],
   "source": [
    "df = pd.read_excel(\"syngo_genes.xlsx\")\n",
    "df = df.rename(columns={'hgnc_symbol': 'Gene_name'})\n",
    "#df.head()\n",
    "df\n",
    "df_aux = df.drop_duplicates(subset=['Gene_name'])\n",
    "df_aux = df_aux.dropna()\n",
    "#df_aux = df_aux[df_aux['Gene_name']==\" \"]\n",
    "gene_names = df_aux['Gene_name']\n",
    "gene_names"
   ]
  },
  {
   "cell_type": "code",
   "execution_count": 13,
   "id": "7f64e6b6",
   "metadata": {},
   "outputs": [],
   "source": [
    "gene_names.to_csv('GN.txt', header=False, index=False, sep='\\t', mode='a')"
   ]
  },
  {
   "cell_type": "code",
   "execution_count": null,
   "id": "bdc64d43",
   "metadata": {},
   "outputs": [],
   "source": []
  }
 ],
 "metadata": {
  "kernelspec": {
   "display_name": "Python 3 (ipykernel)",
   "language": "python",
   "name": "python3"
  },
  "language_info": {
   "codemirror_mode": {
    "name": "ipython",
    "version": 3
   },
   "file_extension": ".py",
   "mimetype": "text/x-python",
   "name": "python",
   "nbconvert_exporter": "python",
   "pygments_lexer": "ipython3",
   "version": "3.9.7"
  }
 },
 "nbformat": 4,
 "nbformat_minor": 5
}
