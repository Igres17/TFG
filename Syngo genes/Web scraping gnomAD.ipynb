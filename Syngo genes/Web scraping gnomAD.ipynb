{
 "cells": [
  {
   "cell_type": "code",
   "execution_count": 1,
   "id": "0690efb4",
   "metadata": {},
   "outputs": [],
   "source": [
    "# This program is re-used from the other project we started months ago.\n",
    "# It use mostly all the functions exepct the ones that select the version 3.1.2\n",
    "# This time we're going to use v2.1.1"
   ]
  },
  {
   "cell_type": "code",
   "execution_count": 2,
   "id": "499e6d7c",
   "metadata": {},
   "outputs": [],
   "source": [
    "# This program, search every gene in the GN.txt in the gnomad webpage\n",
    "# It selects automatically the version (2.1.1) and search for the genes\n",
    "# The program, downloads a .csv file of every gene and gives an output file with the genes that are nout found, or there's an error with them\n",
    "# This file will we checked manually to find out the errors.\n",
    "# All the csv files will we processed with git-bash in order to obtain 1 single file."
   ]
  },
  {
   "cell_type": "code",
   "execution_count": 3,
   "id": "59c100f4",
   "metadata": {},
   "outputs": [],
   "source": [
    "# Load libraries\n",
    "from selenium import webdriver\n",
    "from selenium.webdriver.support.ui import WebDriverWait\n",
    "from selenium.webdriver.support import expected_conditions as EC\n",
    "from selenium.webdriver.common.by import By\n",
    "from selenium.webdriver.common.keys import Keys\n",
    "from time import sleep\n",
    "import pandas as pd\n",
    "from selenium.common.exceptions import TimeoutException\n"
   ]
  },
  {
   "cell_type": "code",
   "execution_count": 4,
   "id": "d9278f6d",
   "metadata": {},
   "outputs": [
    {
     "name": "stdout",
     "output_type": "stream",
     "text": [
      "['AAK1', 'ABHD17A', 'ABHD17B', 'ABHD17C', 'ABI1', 'ABI2', 'ABI3', 'ABL1', 'ABL2', 'ABLIM3', 'ABR', 'ACAN', 'ACHE', 'ACTBL2', 'ACTC1', 'ACTG1', 'ACTR2', 'ACTR3', 'ADAM10', 'ADAM22', 'ADAM23', 'ADCY1', 'ADCY8', 'ADD2', 'ADD3', 'ADGRA1', 'ADGRB1', 'ADGRB3', 'ADGRL1', 'ADGRL2', 'ADGRL3', 'ADORA1', 'ADORA2A', 'ADORA3', 'ADRA1A', 'ADRA2A', 'ADRA2C', 'ADRB1', 'ADRB2', 'AGAP2', 'AGAP3', 'AGRN', 'AKAP1', 'AKAP12', 'AKAP5', 'AKAP7', 'AKAP9', 'AKR1A1', 'AKT1', 'ALK', 'ANKS1B', 'ANO1', 'ANO2', 'ANO6', 'ANXA1', 'ANXA5', 'AP1G1', 'AP1S2', 'AP2B1', 'AP2M1', 'AP2S1', 'AP3D1', 'APBA1', 'APBA2', 'APBB1', 'APC2', 'APH1A', 'APLP2', 'APOE', 'APP', 'APPL1', 'ARC', 'ARF4', 'ARFGAP1', 'ARFGAP3', 'ARFGEF2', 'ARHGAP22', 'ARHGAP39', 'ARHGAP44', 'ARHGDIA', 'ARHGEF15', 'ARHGEF2', 'ARHGEF7', 'ARHGEF9', 'ARL6IP5', 'ARL8B', 'ARPC2', 'ARPC5L', 'ARRB2', 'ASAP1', 'ATAD1', 'ATG9A', 'ATP1A3', 'ATP2B1', 'ATP2B2', 'ATP2B3', 'ATP2B4', 'ATP6AP1', 'ATP6AP2', 'ATP6V0A1', 'ATP6V0A4', 'ATP6V0C', 'ATP6V0D1', 'ATP6V0E2', 'ATP6V1A', 'ATP6V1B1', 'ATP6V1B2', 'ATP6V1C1', 'ATP6V1D', 'ATP6V1E1', 'ATP6V1F', 'ATP6V1G1', 'ATP6V1G2', 'ATP6V1H', 'ATP8A1', 'AURKA', 'AVP', 'AXIN1', 'BACE1', 'BAIAP2', 'BAIAP3', 'BCAN', 'BCAS1', 'BCL11A', 'BCR', 'BEGAIN', 'BIN1', 'BLOC1S1', 'BLOC1S6', 'BSN', 'BTBD9', 'C1QBP', 'C1QL1', 'C1QL2', 'C1QL3', 'CACNA1A', 'CACNA1B', 'CACNA1C', 'CACNA1D', 'CACNA1E', 'CACNA1H', 'CACNA2D1', 'CACNB1', 'CACNB2', 'CACNB4', 'CACNG2', 'CACNG4', 'CADM1', 'CADM3', 'CADPS', 'CADPS2', 'CALB1', 'CALB2', 'CALCA', 'CALCRL', 'CALD1', 'CALY', 'CAMK1', 'CAMK2A', 'CAMK2B', 'CAMK4', 'CAMKV', 'CANX', 'CAPRIN1', 'CASK', 'CASKIN1', 'CD2AP', 'CDC42', 'CDH1', 'CDH11', 'CDH13', 'CDH2', 'CDH23', 'CDK5', 'CDK5R1', 'CDKL5', 'CFL1', 'CHD4', 'CHMP2B', 'CHRNA1', 'CHRNA4', 'CHRNA9', 'CHRNB1', 'CHRND', 'CHRNE', 'CHRNG', 'CLCN3', 'CLEC3A', 'CLEC3B', 'CLSTN1', 'CLSTN2', 'CLSTN3', 'CLTA', 'CLTB', 'CLTC', 'CLU', 'CNIH2', 'CNIH3', 'CNKSR2', 'CNR1', 'CNTN1', 'CNTN2', 'CNTN5', 'CNTN6', 'CNTNAP1', 'CNTNAP2', 'CNTNAP4', 'CORO1A', 'CPEB1', 'CPEB3', 'CPEB4', 'CPLX1', 'CPLX2', 'CPLX3', 'CPSF2', 'CPT1C', 'CRIPT', 'CRTC1', 'CSNK2B', 'CSPG5', 'CTBP1', 'CTBP2', 'CTNNA2', 'CTNNB1', 'CTNND1', 'CTNND2', 'CTSD', 'CTTN', 'CTTNBP2', 'CYFIP1', 'CYFIP2', 'CYTH1', 'CYTH2', 'DACT1', 'DAG1', 'DAGLA', 'DAPK1', 'DBN1', 'DBNL', 'DCC', 'DGCR8', 'DGKB', 'DGKE', 'DGKI', 'DGKQ', 'DGKZ', 'DIAPH1', 'DICER1', 'DLG1', 'DLG2', 'DLG3', 'DLG4', 'DLG5', 'DLGAP1', 'DLGAP2', 'DLGAP3', 'DLGAP4', 'DMD', 'DMXL2', 'DNAJB1', 'DNAJC5', 'DNAJC6', 'DNM1', 'DNM1L', 'DNM2', 'DNM3', 'DOC2B', 'DOCK1', 'DOCK10', 'DOCK7', 'DPYSL2', 'DPYSL3', 'DRD5', 'DROSHA', 'DTNBP1', 'DVL3', 'DYNLL2', 'EEA1', 'EEF1A2', 'EEF1D', 'EEF2', 'EEF2K', 'EFNA5', 'EFNB1', 'EFNB2', 'EFNB3', 'EGLN1', 'EHD1', 'EIF1AX', 'EIF2B2', 'EIF2S1', 'EIF2S2', 'EIF2S3', 'EIF3A', 'EIF3B', 'EIF3D', 'EIF3E', 'EIF3F', 'EIF3I', 'EIF3L', 'EIF4A3', 'EIF4E', 'EIF4EBP1', 'EIF4G1', 'EIF4G2', 'EIF4G3', 'EIF5A', 'EIF5B', 'EIF6', 'ELAVL1', 'ELAVL2', 'ELAVL4', 'EPHA3', 'EPHA4', 'EPHA7', 'EPHB1', 'EPHB2', 'EPS15', 'EPS15L1', 'ERBB2', 'ERBB4', 'ERBIN', 'ERC1', 'ERC2', 'EVI5', 'EXOC2', 'EXOC3', 'EXOC4', 'EZR', 'FAM81A', 'FARP1', 'FBXL20', 'FBXO2', 'FBXO45', 'FEZ1', 'FILIP1', 'FKBP1A', 'FLNA', 'FLOT2', 'FMR1', 'FRMPD4', 'FRRS1L', 'FUBP1', 'FXR2', 'FYN', 'FZD1', 'FZD4', 'FZD5', 'FZD9', 'GABBR1', 'GABBR2', 'GABRA1', 'GAD1', 'GAD2', 'GAP43', 'GAPDH', 'GDI1', 'GDI2', 'GHRL', 'GIPC1', 'GIT2', 'GLRA1', 'GLRA2', 'GNAI2', 'GNB5', 'GPC1', 'GPC2', 'GPC4', 'GPER1', 'GPHN', 'GPM6A', 'GRIA1', 'GRIA2', 'GRIA3', 'GRIA4', 'GRID1', 'GRID2', 'GRIK1', 'GRIK2', 'GRIK3', 'GRIK4', 'GRIK5', 'GRIN1', 'GRIN2A', 'GRIN2B', 'GRIN2C', 'GRIN2D', 'GRIN3A', 'GRIN3B', 'GRIP2', 'GRIPAP1', 'GRK2', 'GRK3', 'GRM1', 'GRM2', 'GRM3', 'GRM4', 'GRM5', 'GRM7', 'GRM8', 'GRN', 'GSG1L', 'GUCY1A1', 'GUCY1B1', 'HABP4', 'HAP1', 'HAPLN1', 'HCN1', 'HIP1', 'HIP1R', 'HNRNPA0', 'HNRNPA1', 'HNRNPA2B1', 'HNRNPA3', 'HNRNPAB', 'HNRNPD', 'HNRNPDL', 'HNRNPF', 'HNRNPH1', 'HNRNPH2', 'HNRNPK', 'HNRNPL', 'HNRNPLL', 'HNRNPM', 'HNRNPU', 'HNRNPUL1', 'HNRNPUL2', 'HOMER1', 'HOMER2', 'HOMER3', 'HPCA', 'HRAS', 'HSP90AA1', 'HSPA8', 'HTR1A', 'HTR1B', 'HTR1D', 'HTR2A', 'HTR3A', 'HTR5A', 'HTR7', 'HTT', 'ICAM5', 'IGF1', 'IGF1R', 'IGSF9B', 'IL1RAP', 'IL1RAPL1', 'IL1RAPL2', 'INA', 'IQSEC1', 'IQSEC2', 'IQSEC3', 'ITGA2', 'ITGA3', 'ITGA5', 'ITGB1', 'ITGB3', 'ITGB4', 'ITPKA', 'ITPR1', 'ITPR3', 'ITSN1', 'JAK2', 'KALRN', 'KCNA1', 'KCNA2', 'KCNA3', 'KCNA4', 'KCNAB2', 'KCNB1', 'KCNC1', 'KCNC2', 'KCNC3', 'KCNC4', 'KCND2', 'KCND3', 'KCNH1', 'KCNJ11', 'KCNJ2', 'KCNJ3', 'KCNJ6', 'KCNJ8', 'KCNJ9', 'KCNMA1', 'KCNN2', 'KCNQ5', 'KIAA1109', 'KIF17', 'KIF5A', 'KPNA1', 'KPNA2', 'KPTN', 'L1CAM', 'LAMA2', 'LAMA4', 'LAMB2', 'LAMC1', 'LAMP1', 'LASP1', 'LGI1', 'LHFPL4', 'LIN7A', 'LIN7C', 'LPAR1', 'LPAR2', 'LRFN1', 'LRFN2', 'LRFN3', 'LRFN4', 'LRFN5', 'LRRC4', 'LRRC4B', 'LRRC4C', 'LRRC7', 'LRRK2', 'LRRTM1', 'LRRTM2', 'LRRTM4', 'LYN', 'LZTS1', 'LZTS3', 'MADD', 'MAGI1', 'MAGI2', 'MAGI3', 'MAP1LC3A', 'MAP2', 'MAP2K1', 'MAPK1', 'MAPK10', 'MAPK14', 'MAPK3', 'MAPK8', 'MAPK9', 'MARCKS', 'MARCKSL1', 'MARK2', 'MCTP2', 'MDGA1', 'MDGA2', 'MECP2', 'MPDZ', 'MPP2', 'MTOR', 'MYH10', 'MYO5A', 'MYO5B', 'MYO6', 'MYO9A', 'NAPB', 'NBEA', 'NCAM1', 'NCAN', 'NCKAP1', 'NCS1', 'NCSTN', 'NECAP1', 'NECTIN1', 'NECTIN3', 'NEDD4', 'NEFH', 'NEFL', 'NEFM', 'NETO1', 'NETO2', 'NGDN', 'NGEF', 'NGFR', 'NLGN1', 'NLGN2', 'NLGN3', 'NOS1', 'NOS1AP', 'NPFF', 'NPPA', 'NPTN', 'NPY', 'NPY1R', 'NPY5R', 'NR3C1', 'NR3C2', 'NRCAM', 'NRG1', 'NRG2', 'NRGN', 'NRN1', 'NRP1', 'NRP2', 'NRXN1', 'NRXN3', 'NSF', 'NSG1', 'NSMF', 'NTN1', 'NTNG1', 'NTNG2', 'NTRK2', 'NTRK3', 'NUFIP1', 'NUMB', 'NUMBL', 'OGT', 'OLFM1', 'OLFM2', 'OPHN1', 'OPRK1', 'OPRM1', 'P2RX1', 'P2RX2', 'P2RX3', 'P2RX6', 'P2RX7', 'P2RY1', 'P2RY2', 'P2RY4', 'PABPC1', 'PACSIN1', 'PACSIN2', 'PAFAH1B1', 'PAK2', 'PAK3', 'PAK5', 'PAK6', 'PARN', 'PCBP1', 'PCBP2', 'PCDH15', 'PCDH17', 'PCDH8', 'PCLO', 'PDE4A', 'PDYN', 'PHB', 'PHB2', 'PICALM', 'PICK1', 'PIN1', 'PIP5K1C', 'PLCB1', 'PLCB2', 'PLCG1', 'PLEKHA5', 'PLEKHG5', 'PLPPR4', 'PLS3', 'PLXNA4', 'PLXNC1', 'PLXND1', 'PNKD', 'PORCN', 'PPA2', 'PPFIA1', 'PPFIA3', 'PPFIBP2', 'PPM1H', 'PPP1CA', 'PPP1CC', 'PPP1R1B', 'PPP1R9A', 'PPP1R9B', 'PPP2CA', 'PPP2R1A', 'PPP2R1B', 'PPP2R2A', 'PPP3CA', 'PPP3CB', 'PPP3CC', 'PPP3R1', 'PRKACA', 'PRKAR1A', 'PRKAR2A', 'PRKAR2B', 'PRKCA', 'PRKCB', 'PRKCG', 'PRKCI', 'PRKCZ', 'PRKN', 'PRR7', 'PRRT1', 'PRRT2', 'PSD', 'PSD2', 'PSEN1', 'PSEN2', 'PSENEN', 'PTEN', 'PTK2', 'PTK2B', 'PTN', 'PTPN23', 'PTPRA', 'PTPRD', 'PTPRF', 'PTPRN2', 'PTPRO', 'PTPRT', 'PTPRZ1', 'PUM1', 'PUM2', 'PURA', 'PURG', 'QKI', 'RAB11A', 'RAB11B', 'RAB11FIP3', 'RAB14', 'RAB1A', 'RAB21', 'RAB2A', 'RAB33B', 'RAB35', 'RAB4A', 'RAB4B', 'RAB5A', 'RAB5C', 'RAB6A', 'RAB7A', 'RAB8A', 'RABAC1', 'RABEP1', 'RABGEF1', 'RAC1', 'RALA', 'RALBP1', 'RAP1A', 'RAP1B', 'RAP2A', 'RAPGEF4', 'RAPH1', 'RAPSN', 'RBMX', 'RDX', 'RELA', 'RELB', 'RGS7BP', 'RGS9', 'RHEB', 'RHOA', 'RHOB', 'RIMBP2', 'RIMS1', 'RIMS2', 'RIMS3', 'RIMS4', 'RNF10', 'RNF19A', 'RNF216', 'ROCK1', 'ROGDI', 'ROR2', 'RPH3A', 'RPL10', 'RPL10A', 'RPL11', 'RPL12', 'RPL13', 'RPL13A', 'RPL14', 'RPL15', 'RPL17', 'RPL18', 'RPL18A', 'RPL19', 'RPL21', 'RPL22', 'RPL23', 'RPL23A', 'RPL24', 'RPL26', 'RPL27', 'RPL27A', 'RPL28', 'RPL29', 'RPL3', 'RPL30', 'RPL31', 'RPL32', 'RPL34', 'RPL35', 'RPL35A', 'RPL36', 'RPL36A', 'RPL37', 'RPL37A', 'RPL38', 'RPL4', 'RPL5', 'RPL6', 'RPL7', 'RPL7A', 'RPL8', 'RPL9', 'RPLP0', 'RPLP1', 'RPLP2', 'RPS10', 'RPS11', 'RPS12', 'RPS13', 'RPS14', 'RPS15', 'RPS15A', 'RPS16', 'RPS17', 'RPS18', 'RPS19', 'RPS2', 'RPS20', 'RPS21', 'RPS23', 'RPS24', 'RPS25', 'RPS26', 'RPS27', 'RPS27A', 'RPS28', 'RPS3', 'RPS3A', 'RPS4X', 'RPS5', 'RPS6', 'RPS6KA1', 'RPS6KA4', 'RPS6KA5', 'RPS6KA6', 'RPS6KB1', 'RPS6KC1', 'RPS7', 'RPS8', 'RPS9', 'RPSA', 'RTN3', 'RTN4', 'RTN4R', 'SACM1L', 'SCAMP1', 'SCAMP5', 'SCG2', 'SCN10A', 'SCN11A', 'SCN1A', 'SCN2A', 'SCN8A', 'SCRIB', 'SCRN1', 'SDCBP', 'SEC22B', 'SEMA3A', 'SEMA3F', 'SEMA4B', 'SEMA4F', 'SEPTIN11', 'SEPTIN3', 'SEPTIN5', 'SEPTIN6', 'SEPTIN7', 'SEPTIN8', 'SFPQ', 'SGIP1', 'SGTA', 'SH3GL1', 'SH3GL2', 'SH3GL3', 'SH3GLB2', 'SHANK1', 'SHANK2', 'SHANK3', 'SHISA6', 'SIPA1L1', 'SIRT2', 'SKP1', 'SLC10A4', 'SLC16A1', 'SLC16A3', 'SLC16A7', 'SLC17A6', 'SLC17A7', 'SLC17A8', 'SLC18A1', 'SLC18A2', 'SLC18A3', 'SLC1A1', 'SLC1A2', 'SLC1A6', 'SLC1A7', 'SLC22A2', 'SLC29A1', 'SLC2A3', 'SLC2A4', 'SLC30A1', 'SLC30A3', 'SLC32A1', 'SLC3A2', 'SLC6A1', 'SLC6A11', 'SLC6A2', 'SLC6A3', 'SLC6A4', 'SLC6A5', 'SLC6A6', 'SLC6A7', 'SLC6A8', 'SLC6A9', 'SLC8A1', 'SLC8A2', 'SLC8A3', 'SLC9A6', 'SLITRK1', 'SLITRK2', 'SLITRK3', 'SLITRK4', 'SNAP23', 'SNAP25', 'SNAP29', 'SNAP47', 'SNAP91', 'SNAPIN', 'SNCA', 'SNPH', 'SNX1', 'SNX14', 'SNX27', 'SNX4', 'SNX9', 'SORCS3', 'SORT1', 'SPARC', 'SPARCL1', 'SPTBN2', 'SRC', 'SRCIN1', 'SRGN', 'SST', 'STAT3', 'STAU1', 'STAU2', 'STK38', 'STK38L', 'STON2', 'STX12', 'STX16', 'STX1A', 'STX1B', 'STX2', 'STX3', 'STX4', 'STXBP1', 'STXBP3', 'STXBP4', 'STXBP5', 'STXBP5L', 'SV2A', 'SV2B', 'SVOP', 'SYDE1', 'SYDE2', 'SYN1', 'SYN2', 'SYNE1', 'SYNGAP1', 'SYNJ1', 'SYNJ2', 'SYNPO', 'SYNPR', 'SYP', 'SYPL1', 'SYT1', 'SYT11', 'SYT12', 'SYT4', 'SYT7', 'TACC3', 'TAMALIN', 'TANC1', 'TANC2', 'TAOK2', 'TBC1D2', 'TBC1D24', 'TBC1D2B', 'TDRD1', 'TDRD5', 'TDRD6', 'TENM1', 'TENM2', 'TENM3', 'TENM4', 'TENT2', 'TERF2', 'TFR2', 'TMEM163', 'TNC', 'TNIK', 'TPD52', 'TPRG1L', 'TRIM3', 'TRIM9', 'TRIO', 'TSC1', 'TSC2', 'TSPAN7', 'TSPOAP1', 'TUBA1A', 'TUBB', 'TUBB2B', 'TUFM', 'UBA52', 'UBE3A', 'UNC13A', 'UNC13B', 'UNC13C', 'USP46', 'USP8', 'VAC14', 'VAMP1', 'VAMP2', 'VAMP3', 'VAMP7', 'VAPA', 'VCAN', 'VCP', 'VCPIP1', 'VDAC1', 'VGF', 'VHL', 'VPS11', 'VPS18', 'VPS29', 'VPS33B', 'VPS35', 'VPS45', 'VTI1A', 'WASF1', 'WASF2', 'WASF3', 'WASL', 'WDR7', 'WFS1', 'WLS', 'WNK1', 'WNT5A', 'WNT7A', 'YBX1', 'YBX3', 'YES1', 'YWHAE', 'YWHAG', 'YWHAH', 'YWHAQ', 'YWHAZ', 'ZDHHC5']\n"
     ]
    },
    {
     "data": {
      "text/plain": [
       "1052"
      ]
     },
     "execution_count": 4,
     "metadata": {},
     "output_type": "execute_result"
    }
   ],
   "source": [
    "# Open the file with the gene names to search them\n",
    "file = open('GN.txt','r')\n",
    "lines = file.readlines()\n",
    "file.close()\n",
    "list_genes = []\n",
    "for genes in lines:\n",
    "    list_genes.append(genes.strip('\\n'))\n",
    "print(list_genes)\n",
    "len(list_genes)"
   ]
  },
  {
   "cell_type": "code",
   "execution_count": 5,
   "id": "fcdc6f06",
   "metadata": {},
   "outputs": [
    {
     "name": "stderr",
     "output_type": "stream",
     "text": [
      "C:\\Users\\sergi\\AppData\\Local\\Temp/ipykernel_9516/4110249326.py:19: DeprecationWarning: executable_path has been deprecated, please pass in a Service object\n",
      "  driver = webdriver.Chrome(driver_path, chrome_options=options)\n",
      "C:\\Users\\sergi\\AppData\\Local\\Temp/ipykernel_9516/4110249326.py:19: DeprecationWarning: use options instead of chrome_options\n",
      "  driver = webdriver.Chrome(driver_path, chrome_options=options)\n"
     ]
    },
    {
     "name": "stdout",
     "output_type": "stream",
     "text": [
      "['ELAVL4']\n",
      "['ELAVL4', 'RPS17']\n",
      "['ELAVL4', 'RPS17']\n",
      "1052\n"
     ]
    }
   ],
   "source": [
    "count = 0 # incicilizes a count to use it like a break while doing the query in order to not collapse the webapge\n",
    "list_not_found = [] # list to not found genes\n",
    "compr = 0 # per comprovar el nombre final\n",
    "\n",
    "# This for gets every gene and search it into gnomAD webpage in order to get a csv file for easch gene\n",
    "for genes in list_genes:\n",
    "    count = count + 1\n",
    "    compr = compr + 1\n",
    "    try:\n",
    "        \n",
    "        # Configurate navigation options\n",
    "        options =  webdriver.ChromeOptions()\n",
    "        options.add_argument('--start-maximized')\n",
    "        options.add_argument('--disable-extensions')\n",
    "        \n",
    "        # choose the driver path we're going to use (chrome in this case)\n",
    "        driver_path = 'chromedriver.exe'\n",
    "\n",
    "        driver = webdriver.Chrome(driver_path, chrome_options=options)\n",
    "\n",
    "        # Inicialize google\n",
    "        driver.get('https://gnomad.broadinstitute.org/')\n",
    "\n",
    "        # Click into the search bar\n",
    "        WebDriverWait(driver, 30)\\\n",
    "            .until(EC.element_to_be_clickable((By.XPATH,\n",
    "                                              '/html/body/div/div[3]/div[2]/span/div/input')))\\\n",
    "            .click()\n",
    "\n",
    "        sleep(1)\n",
    "\n",
    "\n",
    "        # Search every gene in list_genes in ClinVar\n",
    "        WebDriverWait(driver, 30)\\\n",
    "        .until(EC.element_to_be_clickable((By.XPATH,\n",
    "                                          '/html/body/div/div[3]/div[2]/span/div/input')))\\\n",
    "        .send_keys(genes)\n",
    "\n",
    "        sleep(1)\n",
    "\n",
    "        # Click enter to search   \n",
    "        WebDriverWait(driver, 30)\\\n",
    "        .until(EC.element_to_be_clickable((By.XPATH,\n",
    "                                          '/html/body/div/div[3]/div[2]/span/div/input')))\\\n",
    "        .send_keys(Keys.ENTER)\n",
    "\n",
    "        sleep(5)\n",
    "\n",
    "        # Click to download csv\n",
    "        WebDriverWait(driver, 100)\\\n",
    "        .until(EC.element_to_be_clickable((By.XPATH,\n",
    "                                            \"//button[text()='Export variants to CSV']\")))\\\n",
    "        .click()\n",
    "\n",
    "        sleep(1)\n",
    "\n",
    "        # When count is 0, stop the query for 20 seconds in order to not callapse the webpage. To avoid quary rate limit exceeded\n",
    "        if count==10:\n",
    "            sleep(20)\n",
    "            count = 0\n",
    "\n",
    "        driver.close()\n",
    "    \n",
    "    # If the gene is not found append it into a list \n",
    "    except TimeoutException as ex:\n",
    "        list_not_found.append(genes)\n",
    "        print(list_not_found)\n",
    "\n",
    "print(list_not_found)\n",
    "print(compr)"
   ]
  },
  {
   "cell_type": "code",
   "execution_count": 6,
   "id": "73cc67b0",
   "metadata": {},
   "outputs": [],
   "source": [
    "outF = open(\"Notfound(GnomAD).txt\", \"w\")\n",
    "for line in  list_not_found:\n",
    "  # write line to output file\n",
    "    outF.write(line)\n",
    "    outF.write(\"\\n\") #--> si volgues separar lina per linia afegiria això\n",
    "outF.close()"
   ]
  },
  {
   "cell_type": "code",
   "execution_count": null,
   "id": "9fe70820",
   "metadata": {},
   "outputs": [],
   "source": []
  },
  {
   "cell_type": "code",
   "execution_count": null,
   "id": "99a1ff63",
   "metadata": {},
   "outputs": [],
   "source": []
  }
 ],
 "metadata": {
  "kernelspec": {
   "display_name": "Python 3 (ipykernel)",
   "language": "python",
   "name": "python3"
  },
  "language_info": {
   "codemirror_mode": {
    "name": "ipython",
    "version": 3
   },
   "file_extension": ".py",
   "mimetype": "text/x-python",
   "name": "python",
   "nbconvert_exporter": "python",
   "pygments_lexer": "ipython3",
   "version": "3.9.7"
  }
 },
 "nbformat": 4,
 "nbformat_minor": 5
}
